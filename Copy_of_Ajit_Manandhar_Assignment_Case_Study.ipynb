{
  "nbformat": 4,
  "nbformat_minor": 0,
  "metadata": {
    "colab": {
      "name": "Copy of Ajit Manandhar Assignment- Case Study.ipynb",
      "provenance": [],
      "collapsed_sections": [],
      "toc_visible": true,
      "include_colab_link": true
    },
    "kernelspec": {
      "name": "python3",
      "display_name": "Python 3"
    },
    "language_info": {
      "name": "python"
    }
  },
  "cells": [
    {
      "cell_type": "markdown",
      "metadata": {
        "id": "view-in-github",
        "colab_type": "text"
      },
      "source": [
        "<a href=\"https://colab.research.google.com/github/Ajit103/Ajit103/blob/main/Copy_of_Ajit_Manandhar_Assignment_Case_Study.ipynb\" target=\"_parent\"><img src=\"https://colab.research.google.com/assets/colab-badge.svg\" alt=\"Open In Colab\"/></a>"
      ]
    },
    {
      "cell_type": "markdown",
      "source": [
        "# Case Study: Traffic Data Analysis\n",
        "\n",
        "\n"
      ],
      "metadata": {
        "id": "TNoxTiA2uzgQ"
      }
    },
    {
      "cell_type": "markdown",
      "source": [
        "# The Problem\n",
        "\n",
        "## King Street Transit Pilot\n",
        "<img src='https://www.toronto.ca/wp-content/uploads/2019/06/9748-SPER-3866-04-1024x338.jpg' width=600>\n",
        "\n",
        "The King Street Transit Pilot, also known as the \"The King Street Transit Priority Corridor\" is a project in the City of Toronto that aims to reduce traffic by diverting car traffic so that streetcars can go faster and other forms of transportation (cyclists, pedestrians) can safely increase, while making the area more of a \"place\" and not just a road.\n",
        "\n",
        "Here's an image of the new street design:\n",
        "\n",
        "<img src='https://www.toronto.ca/wp-content/uploads/2019/06/96b4-25-March-2019-KSP-Curb-Lane-Uses-FINAL-01-1024x360.png' width=600>\n",
        "\n",
        "- Cars must turn right when they reach the boundaries of the area (Bathurst on the left or Jarvis on the right)\n",
        "- There are some designated loading zones and taxi stands (they do **NOT** allow Uber/Lyft to use the taxi stands)\n",
        "- There are curb lane cafe's (patios)\n",
        "- There are TTC stops for the streetcar that goes east-west\n",
        "- No street parking\n",
        "\n",
        "I encourage you to visit this [neighbourhood](https://www.google.ca/maps/dir/Jarvis+Street+%26+King+Street+East,+Toronto,+ON/Bathurst+St+%26+King+St+W,+Toronto,+ON+M5V+2P9/@43.6474672,-79.3967461,14.94z/data=!4m14!4m13!1m5!1m1!1s0x89d4cb31aad1e4f3:0xa100366e19da353f!2m2!1d-79.3719073!2d43.6504761!1m5!1m1!1s0x882b34dfd4de979d:0xe18df58b063573c2!2m2!1d-79.4026703!2d43.6439035!3e2) if you are ever in the area. Here are the [rules depending on your type of transit](https://www.toronto.ca/city-government/planning-development/planning-studies-initiatives/king-street-pilot/how-to-use-the-king-street-transit-pilot/) (car/TTC/bicycle).\n",
        "\n",
        "\n",
        "The pilot project was launched on November 12, 2017 and ran for about a year before the changes were made permanent in 2019.\n",
        "\n",
        "The city collected traffic data before and after the pilot project launched, so they could determine the impact on traffic (positive or negative). Data was collected using cameras at 31 intersections in the corridor. They also [released dashboards periodically](https://www.toronto.ca/city-government/planning-development/planning-studies-initiatives/king-street-pilot/data-reports-background-materials/) to show the public how the project was going.\n",
        "\n",
        "## Analysis Question\n",
        "What was the impact of this pilot project on private vehicle traffic, and is it significant?\n",
        "\n",
        "**Weekdays from Yonge to Jarvis**\n",
        "\n",
        "**Weekends from Jarvis to Parliament**\n",
        "\n",
        "**Period from Bathrust to Spadina**\n",
        "\n",
        "**We're going to analyze this data and determine the answer to this question!**\n",
        "\n",
        "---"
      ],
      "metadata": {
        "id": "ne5STNEvtfAP"
      }
    },
    {
      "cell_type": "markdown",
      "source": [
        "# Data Collection"
      ],
      "metadata": {
        "id": "kTUGXcmFKt-q"
      }
    },
    {
      "cell_type": "markdown",
      "source": [
        "GPS tracking of TTC streetcars\n",
        "\n",
        "Bluetooth sensors to evaluate car travel times\n",
        "\n",
        "pedestrian and car volumes using video analytics\n",
        "\n",
        "City obtained trend data on customer spending from Moneris Solutions Corporation\n",
        "\n",
        "\n"
      ],
      "metadata": {
        "id": "uTpC2KszKx_Y"
      }
    },
    {
      "cell_type": "markdown",
      "source": [
        "# Importing and Exploring the Data\n",
        "\n",
        "[Travel Time Line Segments](https://open.toronto.ca/dataset/king-st-transit-pilot-bluetooth-travel-time-segments/)\n",
        "\n",
        "[Travel Time Data](https://open.toronto.ca/dataset/king-st-transit-pilot-detailed-bluetooth-travel-time/)\n"
      ],
      "metadata": {
        "id": "iHUvsbpn2Awf"
      }
    },
    {
      "cell_type": "code",
      "source": [
        "# Import libraries\n",
        "import pandas as pd\n",
        "import numpy as np\n",
        "import matplotlib.pyplot as plt\n",
        "import seaborn as sns\n",
        "\n",
        "sns.set_style('darkgrid')\n"
      ],
      "metadata": {
        "id": "azQVD1v_5VRL"
      },
      "execution_count": 1,
      "outputs": []
    },
    {
      "cell_type": "code",
      "source": [
        "# Import travel time data\n",
        "travel_times_url = 'https://ckan0.cf.opendata.inter.prod-toronto.ca/dataset/e05188e5-7af8-426a-8080-942437526a16/resource/c0047fbc-73f2-40e6-8490-195c26195002/download/detailed-bluetooth-travel-time-2017.gz'\n",
        "\n",
        "time_interval = pd.read_csv(travel_times_url)\n",
        "\n",
        "time_interval.head()"
      ],
      "metadata": {
        "colab": {
          "base_uri": "https://localhost:8080/",
          "height": 206
        },
        "id": "YecSXgSRhjxF",
        "outputId": "edc71b0c-106e-495d-b645-855b84869732"
      },
      "execution_count": 2,
      "outputs": [
        {
          "output_type": "execute_result",
          "data": {
            "text/plain": [
              "     result_id         datetime_bin day_type  category period_name     tt  obs\n",
              "0  CO_BA_CO_UN  2017-09-21 00:15:00  Weekday  Baseline         NaN  318.0    1\n",
              "1  CO_BA_CO_UN  2017-09-21 00:55:00  Weekday  Baseline         NaN  225.0    1\n",
              "2  CO_BA_CO_UN  2017-09-21 01:10:00  Weekday  Baseline         NaN  193.0    1\n",
              "3  CO_BA_CO_UN  2017-09-21 01:40:00  Weekday  Baseline         NaN  224.0    1\n",
              "4  CO_BA_CO_UN  2017-09-21 01:45:00  Weekday  Baseline         NaN  275.0    1"
            ],
            "text/html": [
              "\n",
              "  <div id=\"df-2e8f59cb-95cb-4e6b-867b-8cbbe595e410\">\n",
              "    <div class=\"colab-df-container\">\n",
              "      <div>\n",
              "<style scoped>\n",
              "    .dataframe tbody tr th:only-of-type {\n",
              "        vertical-align: middle;\n",
              "    }\n",
              "\n",
              "    .dataframe tbody tr th {\n",
              "        vertical-align: top;\n",
              "    }\n",
              "\n",
              "    .dataframe thead th {\n",
              "        text-align: right;\n",
              "    }\n",
              "</style>\n",
              "<table border=\"1\" class=\"dataframe\">\n",
              "  <thead>\n",
              "    <tr style=\"text-align: right;\">\n",
              "      <th></th>\n",
              "      <th>result_id</th>\n",
              "      <th>datetime_bin</th>\n",
              "      <th>day_type</th>\n",
              "      <th>category</th>\n",
              "      <th>period_name</th>\n",
              "      <th>tt</th>\n",
              "      <th>obs</th>\n",
              "    </tr>\n",
              "  </thead>\n",
              "  <tbody>\n",
              "    <tr>\n",
              "      <th>0</th>\n",
              "      <td>CO_BA_CO_UN</td>\n",
              "      <td>2017-09-21 00:15:00</td>\n",
              "      <td>Weekday</td>\n",
              "      <td>Baseline</td>\n",
              "      <td>NaN</td>\n",
              "      <td>318.0</td>\n",
              "      <td>1</td>\n",
              "    </tr>\n",
              "    <tr>\n",
              "      <th>1</th>\n",
              "      <td>CO_BA_CO_UN</td>\n",
              "      <td>2017-09-21 00:55:00</td>\n",
              "      <td>Weekday</td>\n",
              "      <td>Baseline</td>\n",
              "      <td>NaN</td>\n",
              "      <td>225.0</td>\n",
              "      <td>1</td>\n",
              "    </tr>\n",
              "    <tr>\n",
              "      <th>2</th>\n",
              "      <td>CO_BA_CO_UN</td>\n",
              "      <td>2017-09-21 01:10:00</td>\n",
              "      <td>Weekday</td>\n",
              "      <td>Baseline</td>\n",
              "      <td>NaN</td>\n",
              "      <td>193.0</td>\n",
              "      <td>1</td>\n",
              "    </tr>\n",
              "    <tr>\n",
              "      <th>3</th>\n",
              "      <td>CO_BA_CO_UN</td>\n",
              "      <td>2017-09-21 01:40:00</td>\n",
              "      <td>Weekday</td>\n",
              "      <td>Baseline</td>\n",
              "      <td>NaN</td>\n",
              "      <td>224.0</td>\n",
              "      <td>1</td>\n",
              "    </tr>\n",
              "    <tr>\n",
              "      <th>4</th>\n",
              "      <td>CO_BA_CO_UN</td>\n",
              "      <td>2017-09-21 01:45:00</td>\n",
              "      <td>Weekday</td>\n",
              "      <td>Baseline</td>\n",
              "      <td>NaN</td>\n",
              "      <td>275.0</td>\n",
              "      <td>1</td>\n",
              "    </tr>\n",
              "  </tbody>\n",
              "</table>\n",
              "</div>\n",
              "      <button class=\"colab-df-convert\" onclick=\"convertToInteractive('df-2e8f59cb-95cb-4e6b-867b-8cbbe595e410')\"\n",
              "              title=\"Convert this dataframe to an interactive table.\"\n",
              "              style=\"display:none;\">\n",
              "        \n",
              "  <svg xmlns=\"http://www.w3.org/2000/svg\" height=\"24px\"viewBox=\"0 0 24 24\"\n",
              "       width=\"24px\">\n",
              "    <path d=\"M0 0h24v24H0V0z\" fill=\"none\"/>\n",
              "    <path d=\"M18.56 5.44l.94 2.06.94-2.06 2.06-.94-2.06-.94-.94-2.06-.94 2.06-2.06.94zm-11 1L8.5 8.5l.94-2.06 2.06-.94-2.06-.94L8.5 2.5l-.94 2.06-2.06.94zm10 10l.94 2.06.94-2.06 2.06-.94-2.06-.94-.94-2.06-.94 2.06-2.06.94z\"/><path d=\"M17.41 7.96l-1.37-1.37c-.4-.4-.92-.59-1.43-.59-.52 0-1.04.2-1.43.59L10.3 9.45l-7.72 7.72c-.78.78-.78 2.05 0 2.83L4 21.41c.39.39.9.59 1.41.59.51 0 1.02-.2 1.41-.59l7.78-7.78 2.81-2.81c.8-.78.8-2.07 0-2.86zM5.41 20L4 18.59l7.72-7.72 1.47 1.35L5.41 20z\"/>\n",
              "  </svg>\n",
              "      </button>\n",
              "      \n",
              "  <style>\n",
              "    .colab-df-container {\n",
              "      display:flex;\n",
              "      flex-wrap:wrap;\n",
              "      gap: 12px;\n",
              "    }\n",
              "\n",
              "    .colab-df-convert {\n",
              "      background-color: #E8F0FE;\n",
              "      border: none;\n",
              "      border-radius: 50%;\n",
              "      cursor: pointer;\n",
              "      display: none;\n",
              "      fill: #1967D2;\n",
              "      height: 32px;\n",
              "      padding: 0 0 0 0;\n",
              "      width: 32px;\n",
              "    }\n",
              "\n",
              "    .colab-df-convert:hover {\n",
              "      background-color: #E2EBFA;\n",
              "      box-shadow: 0px 1px 2px rgba(60, 64, 67, 0.3), 0px 1px 3px 1px rgba(60, 64, 67, 0.15);\n",
              "      fill: #174EA6;\n",
              "    }\n",
              "\n",
              "    [theme=dark] .colab-df-convert {\n",
              "      background-color: #3B4455;\n",
              "      fill: #D2E3FC;\n",
              "    }\n",
              "\n",
              "    [theme=dark] .colab-df-convert:hover {\n",
              "      background-color: #434B5C;\n",
              "      box-shadow: 0px 1px 3px 1px rgba(0, 0, 0, 0.15);\n",
              "      filter: drop-shadow(0px 1px 2px rgba(0, 0, 0, 0.3));\n",
              "      fill: #FFFFFF;\n",
              "    }\n",
              "  </style>\n",
              "\n",
              "      <script>\n",
              "        const buttonEl =\n",
              "          document.querySelector('#df-2e8f59cb-95cb-4e6b-867b-8cbbe595e410 button.colab-df-convert');\n",
              "        buttonEl.style.display =\n",
              "          google.colab.kernel.accessAllowed ? 'block' : 'none';\n",
              "\n",
              "        async function convertToInteractive(key) {\n",
              "          const element = document.querySelector('#df-2e8f59cb-95cb-4e6b-867b-8cbbe595e410');\n",
              "          const dataTable =\n",
              "            await google.colab.kernel.invokeFunction('convertToInteractive',\n",
              "                                                     [key], {});\n",
              "          if (!dataTable) return;\n",
              "\n",
              "          const docLinkHtml = 'Like what you see? Visit the ' +\n",
              "            '<a target=\"_blank\" href=https://colab.research.google.com/notebooks/data_table.ipynb>data table notebook</a>'\n",
              "            + ' to learn more about interactive tables.';\n",
              "          element.innerHTML = '';\n",
              "          dataTable['output_type'] = 'display_data';\n",
              "          await google.colab.output.renderOutput(dataTable, element);\n",
              "          const docLink = document.createElement('div');\n",
              "          docLink.innerHTML = docLinkHtml;\n",
              "          element.appendChild(docLink);\n",
              "        }\n",
              "      </script>\n",
              "    </div>\n",
              "  </div>\n",
              "  "
            ]
          },
          "metadata": {},
          "execution_count": 2
        }
      ]
    },
    {
      "cell_type": "markdown",
      "source": [
        "Uh-oh! We have a problem. Reading through the README file, we see that the result_id column represents a segment of road, but those codes are not readible. We need to translate those codes so we can extract the data for the segment we're interested in (Bathurst to Spadina). To do that, we need to look at the GeoJSON data.\n",
        "\n",
        "**We need to install a library to do that!**"
      ],
      "metadata": {
        "id": "rcnE9XxzcHNI"
      }
    },
    {
      "cell_type": "code",
      "source": [
        "#install and import geopandas\n",
        "!pip install geopandas"
      ],
      "metadata": {
        "colab": {
          "base_uri": "https://localhost:8080/"
        },
        "id": "01HA6OCwhr4s",
        "outputId": "abaaa39c-47dc-4f94-9cb7-a44d8b77cb46"
      },
      "execution_count": 3,
      "outputs": [
        {
          "output_type": "stream",
          "name": "stdout",
          "text": [
            "Looking in indexes: https://pypi.org/simple, https://us-python.pkg.dev/colab-wheels/public/simple/\n",
            "Collecting geopandas\n",
            "  Downloading geopandas-0.10.2-py2.py3-none-any.whl (1.0 MB)\n",
            "\u001b[K     |████████████████████████████████| 1.0 MB 3.4 MB/s \n",
            "\u001b[?25hCollecting fiona>=1.8\n",
            "  Downloading Fiona-1.8.21-cp37-cp37m-manylinux2014_x86_64.whl (16.7 MB)\n",
            "\u001b[K     |████████████████████████████████| 16.7 MB 254 kB/s \n",
            "\u001b[?25hRequirement already satisfied: pandas>=0.25.0 in /usr/local/lib/python3.7/dist-packages (from geopandas) (1.3.5)\n",
            "Requirement already satisfied: shapely>=1.6 in /usr/local/lib/python3.7/dist-packages (from geopandas) (1.8.2)\n",
            "Collecting pyproj>=2.2.0\n",
            "  Downloading pyproj-3.2.1-cp37-cp37m-manylinux2010_x86_64.whl (6.3 MB)\n",
            "\u001b[K     |████████████████████████████████| 6.3 MB 41.5 MB/s \n",
            "\u001b[?25hCollecting click-plugins>=1.0\n",
            "  Downloading click_plugins-1.1.1-py2.py3-none-any.whl (7.5 kB)\n",
            "Collecting cligj>=0.5\n",
            "  Downloading cligj-0.7.2-py3-none-any.whl (7.1 kB)\n",
            "Requirement already satisfied: certifi in /usr/local/lib/python3.7/dist-packages (from fiona>=1.8->geopandas) (2022.6.15)\n",
            "Requirement already satisfied: click>=4.0 in /usr/local/lib/python3.7/dist-packages (from fiona>=1.8->geopandas) (7.1.2)\n",
            "Requirement already satisfied: six>=1.7 in /usr/local/lib/python3.7/dist-packages (from fiona>=1.8->geopandas) (1.15.0)\n",
            "Requirement already satisfied: setuptools in /usr/local/lib/python3.7/dist-packages (from fiona>=1.8->geopandas) (57.4.0)\n",
            "Requirement already satisfied: attrs>=17 in /usr/local/lib/python3.7/dist-packages (from fiona>=1.8->geopandas) (22.1.0)\n",
            "Collecting munch\n",
            "  Downloading munch-2.5.0-py2.py3-none-any.whl (10 kB)\n",
            "Requirement already satisfied: numpy>=1.17.3 in /usr/local/lib/python3.7/dist-packages (from pandas>=0.25.0->geopandas) (1.21.6)\n",
            "Requirement already satisfied: python-dateutil>=2.7.3 in /usr/local/lib/python3.7/dist-packages (from pandas>=0.25.0->geopandas) (2.8.2)\n",
            "Requirement already satisfied: pytz>=2017.3 in /usr/local/lib/python3.7/dist-packages (from pandas>=0.25.0->geopandas) (2022.1)\n",
            "Installing collected packages: munch, cligj, click-plugins, pyproj, fiona, geopandas\n",
            "Successfully installed click-plugins-1.1.1 cligj-0.7.2 fiona-1.8.21 geopandas-0.10.2 munch-2.5.0 pyproj-3.2.1\n"
          ]
        }
      ]
    },
    {
      "cell_type": "code",
      "source": [
        "import geopandas as gpd"
      ],
      "metadata": {
        "id": "PCg7PSt-h4jO"
      },
      "execution_count": 4,
      "outputs": []
    },
    {
      "cell_type": "code",
      "source": [
        "# Import geojason data for name of the segment\n",
        "url_seg = 'https://ckan0.cf.opendata.inter.prod-toronto.ca/dataset/b24095b2-8c2f-43d9-a257-b351c61432a6/resource/12f52800-9435-4c30-b38f-076b4dfedb32/download/bluetooth-travel-time-segments-geojson.geojson'\n",
        "\n",
        "df_segment = gpd.read_file(url_seg)\n",
        "\n",
        "df_segment.head()"
      ],
      "metadata": {
        "colab": {
          "base_uri": "https://localhost:8080/",
          "height": 337
        },
        "id": "uBvt-xPih8Sn",
        "outputId": "016022ec-a5a2-4bf1-e9c2-9b92e80b64b5"
      },
      "execution_count": 5,
      "outputs": [
        {
          "output_type": "execute_result",
          "data": {
            "text/plain": [
              "  segment_name      street direction from_intersection to_intersection  \\\n",
              "0  DU_BA_CO_BA    Bathurst        NB            Dundas         College   \n",
              "1  CO_BA_CO_UN     College        EB          Bathurst      University   \n",
              "2  CO_PA_CO_UN     College        WB        Parliament      University   \n",
              "3  CO_PA_DU_PA  Parliament        SB           College          Dundas   \n",
              "4  CO_UN_CO_BA     College        WB        University        Bathurst   \n",
              "\n",
              "   length                                           geometry  \n",
              "0     510  MULTILINESTRING ((-79.40602 43.65231, -79.4068...  \n",
              "1    1430  MULTILINESTRING ((-79.40772 43.65648, -79.4065...  \n",
              "2    1895  MULTILINESTRING ((-79.36798 43.66429, -79.3693...  \n",
              "3     586  MULTILINESTRING ((-79.36798 43.66429, -79.3678...  \n",
              "4    1430  MULTILINESTRING ((-79.39049 43.65986, -79.3925...  "
            ],
            "text/html": [
              "\n",
              "  <div id=\"df-4e2c6944-94c3-41f6-aab5-e6346f36c2b6\">\n",
              "    <div class=\"colab-df-container\">\n",
              "      <div>\n",
              "<style scoped>\n",
              "    .dataframe tbody tr th:only-of-type {\n",
              "        vertical-align: middle;\n",
              "    }\n",
              "\n",
              "    .dataframe tbody tr th {\n",
              "        vertical-align: top;\n",
              "    }\n",
              "\n",
              "    .dataframe thead th {\n",
              "        text-align: right;\n",
              "    }\n",
              "</style>\n",
              "<table border=\"1\" class=\"dataframe\">\n",
              "  <thead>\n",
              "    <tr style=\"text-align: right;\">\n",
              "      <th></th>\n",
              "      <th>segment_name</th>\n",
              "      <th>street</th>\n",
              "      <th>direction</th>\n",
              "      <th>from_intersection</th>\n",
              "      <th>to_intersection</th>\n",
              "      <th>length</th>\n",
              "      <th>geometry</th>\n",
              "    </tr>\n",
              "  </thead>\n",
              "  <tbody>\n",
              "    <tr>\n",
              "      <th>0</th>\n",
              "      <td>DU_BA_CO_BA</td>\n",
              "      <td>Bathurst</td>\n",
              "      <td>NB</td>\n",
              "      <td>Dundas</td>\n",
              "      <td>College</td>\n",
              "      <td>510</td>\n",
              "      <td>MULTILINESTRING ((-79.40602 43.65231, -79.4068...</td>\n",
              "    </tr>\n",
              "    <tr>\n",
              "      <th>1</th>\n",
              "      <td>CO_BA_CO_UN</td>\n",
              "      <td>College</td>\n",
              "      <td>EB</td>\n",
              "      <td>Bathurst</td>\n",
              "      <td>University</td>\n",
              "      <td>1430</td>\n",
              "      <td>MULTILINESTRING ((-79.40772 43.65648, -79.4065...</td>\n",
              "    </tr>\n",
              "    <tr>\n",
              "      <th>2</th>\n",
              "      <td>CO_PA_CO_UN</td>\n",
              "      <td>College</td>\n",
              "      <td>WB</td>\n",
              "      <td>Parliament</td>\n",
              "      <td>University</td>\n",
              "      <td>1895</td>\n",
              "      <td>MULTILINESTRING ((-79.36798 43.66429, -79.3693...</td>\n",
              "    </tr>\n",
              "    <tr>\n",
              "      <th>3</th>\n",
              "      <td>CO_PA_DU_PA</td>\n",
              "      <td>Parliament</td>\n",
              "      <td>SB</td>\n",
              "      <td>College</td>\n",
              "      <td>Dundas</td>\n",
              "      <td>586</td>\n",
              "      <td>MULTILINESTRING ((-79.36798 43.66429, -79.3678...</td>\n",
              "    </tr>\n",
              "    <tr>\n",
              "      <th>4</th>\n",
              "      <td>CO_UN_CO_BA</td>\n",
              "      <td>College</td>\n",
              "      <td>WB</td>\n",
              "      <td>University</td>\n",
              "      <td>Bathurst</td>\n",
              "      <td>1430</td>\n",
              "      <td>MULTILINESTRING ((-79.39049 43.65986, -79.3925...</td>\n",
              "    </tr>\n",
              "  </tbody>\n",
              "</table>\n",
              "</div>\n",
              "      <button class=\"colab-df-convert\" onclick=\"convertToInteractive('df-4e2c6944-94c3-41f6-aab5-e6346f36c2b6')\"\n",
              "              title=\"Convert this dataframe to an interactive table.\"\n",
              "              style=\"display:none;\">\n",
              "        \n",
              "  <svg xmlns=\"http://www.w3.org/2000/svg\" height=\"24px\"viewBox=\"0 0 24 24\"\n",
              "       width=\"24px\">\n",
              "    <path d=\"M0 0h24v24H0V0z\" fill=\"none\"/>\n",
              "    <path d=\"M18.56 5.44l.94 2.06.94-2.06 2.06-.94-2.06-.94-.94-2.06-.94 2.06-2.06.94zm-11 1L8.5 8.5l.94-2.06 2.06-.94-2.06-.94L8.5 2.5l-.94 2.06-2.06.94zm10 10l.94 2.06.94-2.06 2.06-.94-2.06-.94-.94-2.06-.94 2.06-2.06.94z\"/><path d=\"M17.41 7.96l-1.37-1.37c-.4-.4-.92-.59-1.43-.59-.52 0-1.04.2-1.43.59L10.3 9.45l-7.72 7.72c-.78.78-.78 2.05 0 2.83L4 21.41c.39.39.9.59 1.41.59.51 0 1.02-.2 1.41-.59l7.78-7.78 2.81-2.81c.8-.78.8-2.07 0-2.86zM5.41 20L4 18.59l7.72-7.72 1.47 1.35L5.41 20z\"/>\n",
              "  </svg>\n",
              "      </button>\n",
              "      \n",
              "  <style>\n",
              "    .colab-df-container {\n",
              "      display:flex;\n",
              "      flex-wrap:wrap;\n",
              "      gap: 12px;\n",
              "    }\n",
              "\n",
              "    .colab-df-convert {\n",
              "      background-color: #E8F0FE;\n",
              "      border: none;\n",
              "      border-radius: 50%;\n",
              "      cursor: pointer;\n",
              "      display: none;\n",
              "      fill: #1967D2;\n",
              "      height: 32px;\n",
              "      padding: 0 0 0 0;\n",
              "      width: 32px;\n",
              "    }\n",
              "\n",
              "    .colab-df-convert:hover {\n",
              "      background-color: #E2EBFA;\n",
              "      box-shadow: 0px 1px 2px rgba(60, 64, 67, 0.3), 0px 1px 3px 1px rgba(60, 64, 67, 0.15);\n",
              "      fill: #174EA6;\n",
              "    }\n",
              "\n",
              "    [theme=dark] .colab-df-convert {\n",
              "      background-color: #3B4455;\n",
              "      fill: #D2E3FC;\n",
              "    }\n",
              "\n",
              "    [theme=dark] .colab-df-convert:hover {\n",
              "      background-color: #434B5C;\n",
              "      box-shadow: 0px 1px 3px 1px rgba(0, 0, 0, 0.15);\n",
              "      filter: drop-shadow(0px 1px 2px rgba(0, 0, 0, 0.3));\n",
              "      fill: #FFFFFF;\n",
              "    }\n",
              "  </style>\n",
              "\n",
              "      <script>\n",
              "        const buttonEl =\n",
              "          document.querySelector('#df-4e2c6944-94c3-41f6-aab5-e6346f36c2b6 button.colab-df-convert');\n",
              "        buttonEl.style.display =\n",
              "          google.colab.kernel.accessAllowed ? 'block' : 'none';\n",
              "\n",
              "        async function convertToInteractive(key) {\n",
              "          const element = document.querySelector('#df-4e2c6944-94c3-41f6-aab5-e6346f36c2b6');\n",
              "          const dataTable =\n",
              "            await google.colab.kernel.invokeFunction('convertToInteractive',\n",
              "                                                     [key], {});\n",
              "          if (!dataTable) return;\n",
              "\n",
              "          const docLinkHtml = 'Like what you see? Visit the ' +\n",
              "            '<a target=\"_blank\" href=https://colab.research.google.com/notebooks/data_table.ipynb>data table notebook</a>'\n",
              "            + ' to learn more about interactive tables.';\n",
              "          element.innerHTML = '';\n",
              "          dataTable['output_type'] = 'display_data';\n",
              "          await google.colab.output.renderOutput(dataTable, element);\n",
              "          const docLink = document.createElement('div');\n",
              "          docLink.innerHTML = docLinkHtml;\n",
              "          element.appendChild(docLink);\n",
              "        }\n",
              "      </script>\n",
              "    </div>\n",
              "  </div>\n",
              "  "
            ]
          },
          "metadata": {},
          "execution_count": 5
        }
      ]
    },
    {
      "cell_type": "markdown",
      "source": [
        "# Data Cleaning\n",
        "\n",
        "In this context, data cleaning means we're going to:\n",
        "- Get rid of missing data or erroneous data\n",
        "- Filter to include only the data we want to analyze\n",
        "- Aggregate the data to make the analysis simpler\n",
        "- Calculate our metrics\n"
      ],
      "metadata": {
        "id": "CKd_0XV8PIVC"
      }
    },
    {
      "cell_type": "markdown",
      "source": [
        "Second, we're going to slice the data to include only the data from either the \"Baseline\" or \"Pilot\" categories. We're going to use conditional indexing to do this. Recall that:"
      ],
      "metadata": {
        "id": "DN7CQoCqzKVc"
      }
    },
    {
      "cell_type": "markdown",
      "source": [
        "After that, there should be no more \"Excluded\" category in the dataset."
      ],
      "metadata": {
        "id": "4esVeTVV6LSe"
      }
    },
    {
      "cell_type": "markdown",
      "source": [
        "Now, let's use Pandas [Groupby()](https://pandas.pydata.org/docs/reference/api/pandas.DataFrame.groupby.html) to aggregate the data and calculate the mean travel time in seconds."
      ],
      "metadata": {
        "id": "NlCNIC4K6RXz"
      }
    },
    {
      "cell_type": "markdown",
      "source": [
        "The Pandas GroupBy function **makes the groups into indices**. Let's reset the index to undo that."
      ],
      "metadata": {
        "id": "HduFzSigotKO"
      }
    },
    {
      "cell_type": "code",
      "source": [
        "# Creating function to retrieve the segment code\n",
        "\n",
        "def get_segment(street_name, street_from, to, place_df):\n",
        "    \"\"\"Get the segment code from the street name and from/to streets.\"\"\"\n",
        "    df1 = place_df[place_df['street'] == street_name]\n",
        "\n",
        "    df2 = df1[df1['from_intersection'] == street_from]\n",
        "    \n",
        "    df3 = df2[df2['to_intersection'] == to]\n",
        "    \n",
        "    segment_code = df3['segment_name'].iloc[0]\n",
        "\n",
        "    return segment_code"
      ],
      "metadata": {
        "id": "m5UYCql-n3i0"
      },
      "execution_count": 6,
      "outputs": []
    },
    {
      "cell_type": "code",
      "source": [
        "# Defining function for Analysis\n",
        "def analyze_data(times_df, segment_of_interest, column_to_groupby, minutes):\n",
        "    \"\"\"Clean and pivot our data.\"\"\"\n",
        "    street_data = times_df[times_df['result_id'] == segment_of_interest]\n",
        "\n",
        "    street_data = street_data.dropna(subset=['period_name'])\n",
        "    \n",
        "    street_data = street_data[street_data['category'] != 'Excluded']\n",
        "\n",
        "    summary_comparison = street_data.groupby(['category', column_to_groupby]).mean()\n",
        "\n",
        "    summary_comparison = summary_comparison.reset_index()\n",
        "\n",
        "    pivoted_data = summary_comparison.pivot(index=column_to_groupby, columns='category', values='tt')\n",
        "\n",
        "    # Minutes or seconds:\n",
        "    if minutes == True:\n",
        "        pivoted_data = pivoted_data / 60\n",
        "\n",
        "    pivoted_data['pct_diff'] = (pivoted_data['Pilot'] - pivoted_data['Baseline']) / pivoted_data['Baseline'] * 100\n",
        "\n",
        "    return pivoted_data\n"
      ],
      "metadata": {
        "id": "Q0ZS0N-CoeBZ"
      },
      "execution_count": 7,
      "outputs": []
    },
    {
      "cell_type": "code",
      "source": [
        "street = 'King'\n",
        "from_street = 'Bathurst'\n",
        "to = 'Spadina'\n",
        "column_to_groupby = 'period_name'\n",
        "min_boolean = True\n",
        "# --\n",
        "\n",
        "time_unit = 'seconds'\n",
        "if min_boolean: # == True\n",
        "    time_unit = 'minutes'\n",
        "\n",
        "segment_of_interest = get_segment(street, from_street, to, df_segment)\n",
        "\n",
        "pivoted_data = analyze_data(time_interval, segment_of_interest, column_to_groupby, min_boolean)\n",
        "\n",
        "# Print the pivoted data\n",
        "print('Travel time in ' + time_unit)\n",
        "print('----------------')\n",
        "print(pivoted_data)\n",
        "\n",
        "print('')\n",
        "# Plot the pivoted data\n",
        "plt1 = pivoted_data['pct_diff'].plot(kind='bar', figsize=(12, 6))\n",
        "\n",
        "plt1.set_ylabel('Percent Change [%]')\n",
        "\n",
        "plt1.set_xlabel('Period Name')\n",
        "\n",
        "plt1.set_title('Percent Change in Travel Time: ' + from_street + ' to ' + to)"
      ],
      "metadata": {
        "id": "ZkQWX4mxAFmw",
        "colab": {
          "base_uri": "https://localhost:8080/",
          "height": 651
        },
        "outputId": "b5518cbe-1e4f-4e47-f4a4-e17b27cf6a5f"
      },
      "execution_count": 11,
      "outputs": [
        {
          "output_type": "stream",
          "name": "stdout",
          "text": [
            "Travel time in minutes\n",
            "----------------\n",
            "category     Baseline     Pilot   pct_diff\n",
            "period_name                               \n",
            "AM Peak      2.472726  2.788615  12.774943\n",
            "Afternoon    2.777424  3.088654  11.205692\n",
            "Evening      3.894836  3.153600 -19.031260\n",
            "Midday       3.129032  2.934290  -6.223717\n",
            "Morning      1.991627  2.722596  36.702138\n",
            "PM Peak      3.716912  3.307783 -11.007222\n",
            "\n"
          ]
        },
        {
          "output_type": "execute_result",
          "data": {
            "text/plain": [
              "Text(0.5, 1.0, 'Percent Change in Travel Time: Bathurst to Spadina')"
            ]
          },
          "metadata": {},
          "execution_count": 11
        },
        {
          "output_type": "display_data",
          "data": {
            "text/plain": [
              "<Figure size 864x432 with 1 Axes>"
            ],
            "image/png": "[encoded data removed]"
          },
          "metadata": {
            "needs_background": "light"
          }
        }
      ]
    },
    {
      "cell_type": "markdown",
      "source": [
        "**Weekdays from Yonge to Jarvis**"
      ],
      "metadata": {
        "id": "xoIRswDU_OzP"
      }
    },
    {
      "cell_type": "code",
      "source": [
        "street = 'King'\n",
        "from_street = 'Yonge'\n",
        "to = 'Jarvis'\n",
        "column_to_groupby = 'day_type'\n",
        "min_boolean = True\n",
        "# --\n",
        "\n",
        "time_unit = 'seconds'\n",
        "if min_boolean: # == True\n",
        "    time_unit = 'minutes'\n",
        "\n",
        "segment_of_interest = get_segment(street, from_street, to, df_segment)\n",
        "\n",
        "pivoted_data = analyze_data(time_interval, segment_of_interest, column_to_groupby, min_boolean)\n",
        "\n",
        "# Print the pivoted data\n",
        "print('Travel time in ' + time_unit)\n",
        "print('----------------')\n",
        "print(pivoted_data)\n",
        "\n",
        "print('')\n",
        "# Plot the pivoted data\n",
        "plt1 = pivoted_data['pct_diff'].plot(kind='bar', figsize=(12, 6))\n",
        "\n",
        "plt1.set_ylabel('Percent Change [%]')\n",
        "\n",
        "plt1.set_xlabel('Period Name')\n",
        "\n",
        "plt1.set_title('Percent Change in Travel Time: ' + from_street + ' to ' + to)"
      ],
      "metadata": {
        "colab": {
          "base_uri": "https://localhost:8080/",
          "height": 579
        },
        "id": "iZvgvQOzqGEs",
        "outputId": "f3ca2e90-832c-4230-9511-758fcaa084e9"
      },
      "execution_count": 12,
      "outputs": [
        {
          "output_type": "stream",
          "name": "stdout",
          "text": [
            "Travel time in minutes\n",
            "----------------\n",
            "category  Baseline     Pilot   pct_diff\n",
            "day_type                               \n",
            "Weekday    2.20313  2.663815  20.910455\n",
            "Weekend    1.85486  3.220607  73.630731\n",
            "\n"
          ]
        },
        {
          "output_type": "execute_result",
          "data": {
            "text/plain": [
              "Text(0.5, 1.0, 'Percent Change in Travel Time: Yonge to Jarvis')"
            ]
          },
          "metadata": {},
          "execution_count": 12
        },
        {
          "output_type": "display_data",
          "data": {
            "text/plain": [
              "<Figure size 864x432 with 1 Axes>"
            ],
            "image/png": "[encoded data removed]"
          },
          "metadata": {
            "needs_background": "light"
          }
        }
      ]
    },
    {
      "cell_type": "markdown",
      "source": [
        "**Conclusion**"
      ],
      "metadata": {
        "id": "ePK-Mxebu5z4"
      }
    },
    {
      "cell_type": "markdown",
      "source": [
        "As we can see from the above analysis, the travel time has increased significantly, just over 20%, on Weekdays from Yonge to Jarvis. This shows that the King Street Transit Pilot project has failed to reduce travel time for the traffic in this particular segment of the road."
      ],
      "metadata": {
        "id": "KYacc8ayu9vr"
      }
    },
    {
      "cell_type": "markdown",
      "source": [
        "**Jarvis to Parliament**"
      ],
      "metadata": {
        "id": "U5s4XdFb_SZ8"
      }
    },
    {
      "cell_type": "code",
      "source": [
        "street = 'King'\n",
        "from_street = 'Jarvis'\n",
        "to = 'Parliament'\n",
        "column_to_groupby = 'day_type'\n",
        "min_boolean = True\n",
        "# --\n",
        "\n",
        "time_unit = 'seconds'\n",
        "if min_boolean: # == True\n",
        "    time_unit = 'minutes'\n",
        "\n",
        "segment_of_interest = get_segment(street, from_street, to, df_segment)\n",
        "\n",
        "pivoted_data = analyze_data(time_interval, segment_of_interest, column_to_groupby, min_boolean)\n",
        "\n",
        "# Print the pivoted data\n",
        "print('Travel time in ' + time_unit)\n",
        "print('----------------')\n",
        "print(pivoted_data)\n",
        "\n",
        "print('')\n",
        "# Plot the pivoted data\n",
        "plt2 = pivoted_data['pct_diff'].plot(kind='bar', figsize=(12, 6))\n",
        "\n",
        "plt2.set_ylabel('Percent Change [%]')\n",
        "\n",
        "plt2.set_xlabel('Period Name')\n",
        "\n",
        "plt2.set_title('Percent Change in Travel Time: ' + from_street + ' to ' + to)"
      ],
      "metadata": {
        "colab": {
          "base_uri": "https://localhost:8080/",
          "height": 579
        },
        "id": "Cbvoyu7isfoU",
        "outputId": "77770d6f-998e-4bd2-9b48-0efd8c1c303f"
      },
      "execution_count": 13,
      "outputs": [
        {
          "output_type": "stream",
          "name": "stdout",
          "text": [
            "Travel time in minutes\n",
            "----------------\n",
            "category  Baseline     Pilot   pct_diff\n",
            "day_type                               \n",
            "Weekday   2.856477  3.071697   7.534455\n",
            "Weekend   2.350105  3.438091  46.295192\n",
            "\n"
          ]
        },
        {
          "output_type": "execute_result",
          "data": {
            "text/plain": [
              "Text(0.5, 1.0, 'Percent Change in Travel Time: Jarvis to Parliament')"
            ]
          },
          "metadata": {},
          "execution_count": 13
        },
        {
          "output_type": "display_data",
          "data": {
            "text/plain": [
              "<Figure size 864x432 with 1 Axes>"
            ],
            "image/png": "[encoded data removed]"
          },
          "metadata": {
            "needs_background": "light"
          }
        }
      ]
    },
    {
      "cell_type": "markdown",
      "source": [
        "**Conclusion**"
      ],
      "metadata": {
        "id": "ktb5zBxBtEGN"
      }
    },
    {
      "cell_type": "markdown",
      "source": [
        "As we can see from the above analysis, the travel time has increased significantly, almost 50%, on Weekends from Jarvis to Parliament. This shows that the King Street Transit Pilot project has failed to reduce travel time for the traffic in this particular segment of the road."
      ],
      "metadata": {
        "id": "K2pmHgE_tLab"
      }
    },
    {
      "cell_type": "markdown",
      "source": [
        "# Summary of Commands\n",
        "```\n",
        "!pip install geopandas\n",
        "pandas.DataFrame.describe(include='all')\n",
        "pandas.DataFrame.unique()\n",
        "pandas.DataFrame.groupby()\n",
        "pandas.DataFrame.reset_index()\n",
        "\n",
        "```"
      ],
      "metadata": {
        "id": "y2NdhRR80Oys"
      }
    }
  ]
}