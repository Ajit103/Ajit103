{
  "nbformat": 4,
  "nbformat_minor": 0,
  "metadata": {
    "colab": {
      "name": "Ajit Manandhar Assignment- Case Study.ipynb",
      "provenance": [],
      "collapsed_sections": [],
      "toc_visible": true,
      "include_colab_link": true
    },
    "kernelspec": {
      "name": "python3",
      "display_name": "Python 3"
    },
    "language_info": {
      "name": "python"
    }
  },
  "cells": [
    {
      "cell_type": "markdown",
      "metadata": {
        "id": "view-in-github",
        "colab_type": "text"
      },
      "source": [
        "<a href=\"https://colab.research.google.com/github/Ajit103/Ajit103/blob/main/Ajit_Manandhar_Assignment_Case_Study.ipynb\" target=\"_parent\"><img src=\"https://colab.research.google.com/assets/colab-badge.svg\" alt=\"Open In Colab\"/></a>"
      ]
    },
    {
      "cell_type": "markdown",
      "source": [
        "# Case Study: Traffic Data Analysis\n",
        "\n",
        "## Why Traffic Data?\n",
        "- While the ABI program focuses on private sector industries like marketing, retail, etc., transportation is a very important industry that exists both in the private and public sector.\n",
        "- This industry is **ripe for disruption** from a data perspective\n",
        "- Every city and region has their own transportation organization (Metrolinx, TTC, Hamilton Street Railway, Ottawa-Carleton Transpo, etc.)\n",
        "- Private companies are also very interested in transportation, specifically traffic (Uber, Lyft, Lime, Google, Waze, etc.)\n",
        "- It is the instructors favourite industry for data analysis\n",
        "- There are lots of public data from many regions related to transportation and traffic!\n",
        "\n"
      ],
      "metadata": {
        "id": "TNoxTiA2uzgQ"
      }
    },
    {
      "cell_type": "markdown",
      "source": [
        "# Reminder: How to Take this Course\n",
        "\n",
        "In this course, we will be learning programming and data analysis. These subjects involve theory and practice. The ABI program focuses on PRACTICE.\n",
        "- Save a copy of this Notebook in your Drive\n",
        "- Write and edit code in your Notebook\n",
        "- Ask as many questions as you have (this is an intro course, there are NO dumb questions)\n",
        "- Bring your own problems and ask questions on how to approach them (data analysis problem at work or school)\n",
        "\n",
        "If you do not do these things, you will not retain much from this course. [Studies have shown](https://www.psychotactics.com/art-retain-learning/) that you retain:\n",
        "\n",
        "- 75% of what you learn through practice\n",
        "- 50% of what you learn through discussion with others\n",
        "- 30% of what you learn through a demonstration\n",
        "- 10% of what you learn from reading\n",
        "- 5% of what you learn from a lecture\n",
        "\n",
        "### Recommendations\n",
        "\n",
        "* Learning Python requires context. **Experiment** with your creativity when learning it and use any search engine (Google, Bing, etc.) to explore the concept further with different examples.\n",
        "\n",
        "* **Practice** makes perfect. When exploring a programming concept, try to test it with different approaches to understand what works and what does not and why it does so.\n",
        "\n",
        "* Do not be afraid to **test the limits**. You can create a backup copy of this file and if anything goes wrong, you can always use the backup copy.\n",
        "\n",
        "\n",
        "## Do you want to retain 75% of this course or 30%? The choice is yours.\n",
        "\n",
        "---\n",
        "\n"
      ],
      "metadata": {
        "id": "UDzeBIH9ifKk"
      }
    },
    {
      "cell_type": "markdown",
      "source": [
        "# The Process\n",
        "\n",
        "1. **Understand the problem.** We're going to read the case study and try to understand what is being asked of us. \n",
        "2. **Collect the data.** In this case study, the data has already been collected. We will summarize how the data was collected.\n",
        "3. **Import and explore the Data.** We will import the data into Pandas and go through some README files to understand it.\n",
        "4. **Define metrics for analysis.** It is important that we define some metrics to analyze before we start the analysis. This helps reduce the bias in our analysis.\n",
        "5. **Clean the data.** We will slice and clean the data to prepare it for our analysis.\n",
        "6. **Visualize the data.** We will make some simple visualizations to analyze the data.\n",
        "7. **Generalize the work.** We will turn most of our code into functions that can be used in other analyses."
      ],
      "metadata": {
        "id": "2ykNWNww-00F"
      }
    },
    {
      "cell_type": "markdown",
      "source": [
        "# The Problem\n",
        "\n",
        "## King Street Transit Pilot\n",
        "<img src='https://www.toronto.ca/wp-content/uploads/2019/06/9748-SPER-3866-04-1024x338.jpg' width=600>\n",
        "\n",
        "The King Street Transit Pilot, also known as the \"The King Street Transit Priority Corridor\" is a project in the City of Toronto that aims to reduce traffic by diverting car traffic so that streetcars can go faster and other forms of transportation (cyclists, pedestrians) can safely increase, while making the area more of a \"place\" and not just a road.\n",
        "\n",
        "Here's an image of the new street design:\n",
        "\n",
        "<img src='https://www.toronto.ca/wp-content/uploads/2019/06/96b4-25-March-2019-KSP-Curb-Lane-Uses-FINAL-01-1024x360.png' width=600>\n",
        "\n",
        "- Cars must turn right when they reach the boundaries of the area (Bathurst on the left or Jarvis on the right)\n",
        "- There are some designated loading zones and taxi stands (they do **NOT** allow Uber/Lyft to use the taxi stands)\n",
        "- There are curb lane cafe's (patios)\n",
        "- There are TTC stops for the streetcar that goes east-west\n",
        "- No street parking\n",
        "\n",
        "I encourage you to visit this [neighbourhood](https://www.google.ca/maps/dir/Jarvis+Street+%26+King+Street+East,+Toronto,+ON/Bathurst+St+%26+King+St+W,+Toronto,+ON+M5V+2P9/@43.6474672,-79.3967461,14.94z/data=!4m14!4m13!1m5!1m1!1s0x89d4cb31aad1e4f3:0xa100366e19da353f!2m2!1d-79.3719073!2d43.6504761!1m5!1m1!1s0x882b34dfd4de979d:0xe18df58b063573c2!2m2!1d-79.4026703!2d43.6439035!3e2) if you are ever in the area. Here are the [rules depending on your type of transit](https://www.toronto.ca/city-government/planning-development/planning-studies-initiatives/king-street-pilot/how-to-use-the-king-street-transit-pilot/) (car/TTC/bicycle).\n",
        "\n",
        "\n",
        "The pilot project was launched on November 12, 2017 and ran for about a year before the changes were made permanent in 2019.\n",
        "\n",
        "The city collected traffic data before and after the pilot project launched, so they could determine the impact on traffic (positive or negative). Data was collected using cameras at 31 intersections in the corridor. They also [released dashboards periodically](https://www.toronto.ca/city-government/planning-development/planning-studies-initiatives/king-street-pilot/data-reports-background-materials/) to show the public how the project was going.\n",
        "\n",
        "## Analysis Question\n",
        "What was the impact of this pilot project on private vehicle traffic, and is it significant?\n",
        "\n",
        "**We're going to analyze this data and determine the answer to this question!**\n",
        "\n",
        "---"
      ],
      "metadata": {
        "id": "ne5STNEvtfAP"
      }
    },
    {
      "cell_type": "markdown",
      "source": [
        "# Data Collection"
      ],
      "metadata": {
        "id": "kTUGXcmFKt-q"
      }
    },
    {
      "cell_type": "markdown",
      "source": [
        "GPS tracking of TTC streetcars\n",
        "\n",
        "Bluetooth sensors to evaluate car travel times\n",
        "\n",
        "pedestrian and car volumes using video analytics\n",
        "\n",
        "City obtained trend data on customer spending from Moneris Solutions Corporation\n",
        "\n",
        "\n"
      ],
      "metadata": {
        "id": "uTpC2KszKx_Y"
      }
    },
    {
      "cell_type": "markdown",
      "source": [
        "# Importing and Exploring the Data\n",
        "\n",
        "[Travel Time Line Segments](https://open.toronto.ca/dataset/king-st-transit-pilot-bluetooth-travel-time-segments/)\n",
        "\n",
        "[Travel Time Data](https://open.toronto.ca/dataset/king-st-transit-pilot-detailed-bluetooth-travel-time/)\n"
      ],
      "metadata": {
        "id": "iHUvsbpn2Awf"
      }
    },
    {
      "cell_type": "code",
      "execution_count": null,
      "metadata": {
        "id": "nsjbcHkJq4V0"
      },
      "outputs": [],
      "source": [
        "import pandas as pd\n",
        "import numpy as np\n",
        "import matplotlib.pyplot as plt\n",
        "import seaborn as sns\n",
        "\n",
        "sns.set_style('darkgrid')"
      ]
    },
    {
      "cell_type": "code",
      "source": [
        "travel_times_url = 'https://ckan0.cf.opendata.inter.prod-toronto.ca/dataset/e05188e5-7af8-426a-8080-942437526a16/resource/c0047fbc-73f2-40e6-8490-195c26195002/download/detailed-bluetooth-travel-time-2017.gz'\n",
        "\n",
        "travel_times = pd.read_csv(travel_times_url)\n",
        "\n",
        "travel_times.head()"
      ],
      "metadata": {
        "id": "w_ZVpOjfVO_i",
        "colab": {
          "base_uri": "https://localhost:8080/",
          "height": 206
        },
        "outputId": "839ee723-5a05-4a7c-ff03-83fb0cd1ac0b"
      },
      "execution_count": null,
      "outputs": [
        {
          "output_type": "execute_result",
          "data": {
            "text/plain": [
              "     result_id         datetime_bin day_type  category period_name     tt  obs\n",
              "0  CO_BA_CO_UN  2017-09-21 00:15:00  Weekday  Baseline         NaN  318.0    1\n",
              "1  CO_BA_CO_UN  2017-09-21 00:55:00  Weekday  Baseline         NaN  225.0    1\n",
              "2  CO_BA_CO_UN  2017-09-21 01:10:00  Weekday  Baseline         NaN  193.0    1\n",
              "3  CO_BA_CO_UN  2017-09-21 01:40:00  Weekday  Baseline         NaN  224.0    1\n",
              "4  CO_BA_CO_UN  2017-09-21 01:45:00  Weekday  Baseline         NaN  275.0    1"
            ],
            "text/html": [
              "\n",
              "  <div id=\"df-a5171b41-d418-42ad-82af-1613fcb2ee4e\">\n",
              "    <div class=\"colab-df-container\">\n",
              "      <div>\n",
              "<style scoped>\n",
              "    .dataframe tbody tr th:only-of-type {\n",
              "        vertical-align: middle;\n",
              "    }\n",
              "\n",
              "    .dataframe tbody tr th {\n",
              "        vertical-align: top;\n",
              "    }\n",
              "\n",
              "    .dataframe thead th {\n",
              "        text-align: right;\n",
              "    }\n",
              "</style>\n",
              "<table border=\"1\" class=\"dataframe\">\n",
              "  <thead>\n",
              "    <tr style=\"text-align: right;\">\n",
              "      <th></th>\n",
              "      <th>result_id</th>\n",
              "      <th>datetime_bin</th>\n",
              "      <th>day_type</th>\n",
              "      <th>category</th>\n",
              "      <th>period_name</th>\n",
              "      <th>tt</th>\n",
              "      <th>obs</th>\n",
              "    </tr>\n",
              "  </thead>\n",
              "  <tbody>\n",
              "    <tr>\n",
              "      <th>0</th>\n",
              "      <td>CO_BA_CO_UN</td>\n",
              "      <td>2017-09-21 00:15:00</td>\n",
              "      <td>Weekday</td>\n",
              "      <td>Baseline</td>\n",
              "      <td>NaN</td>\n",
              "      <td>318.0</td>\n",
              "      <td>1</td>\n",
              "    </tr>\n",
              "    <tr>\n",
              "      <th>1</th>\n",
              "      <td>CO_BA_CO_UN</td>\n",
              "      <td>2017-09-21 00:55:00</td>\n",
              "      <td>Weekday</td>\n",
              "      <td>Baseline</td>\n",
              "      <td>NaN</td>\n",
              "      <td>225.0</td>\n",
              "      <td>1</td>\n",
              "    </tr>\n",
              "    <tr>\n",
              "      <th>2</th>\n",
              "      <td>CO_BA_CO_UN</td>\n",
              "      <td>2017-09-21 01:10:00</td>\n",
              "      <td>Weekday</td>\n",
              "      <td>Baseline</td>\n",
              "      <td>NaN</td>\n",
              "      <td>193.0</td>\n",
              "      <td>1</td>\n",
              "    </tr>\n",
              "    <tr>\n",
              "      <th>3</th>\n",
              "      <td>CO_BA_CO_UN</td>\n",
              "      <td>2017-09-21 01:40:00</td>\n",
              "      <td>Weekday</td>\n",
              "      <td>Baseline</td>\n",
              "      <td>NaN</td>\n",
              "      <td>224.0</td>\n",
              "      <td>1</td>\n",
              "    </tr>\n",
              "    <tr>\n",
              "      <th>4</th>\n",
              "      <td>CO_BA_CO_UN</td>\n",
              "      <td>2017-09-21 01:45:00</td>\n",
              "      <td>Weekday</td>\n",
              "      <td>Baseline</td>\n",
              "      <td>NaN</td>\n",
              "      <td>275.0</td>\n",
              "      <td>1</td>\n",
              "    </tr>\n",
              "  </tbody>\n",
              "</table>\n",
              "</div>\n",
              "      <button class=\"colab-df-convert\" onclick=\"convertToInteractive('df-a5171b41-d418-42ad-82af-1613fcb2ee4e')\"\n",
              "              title=\"Convert this dataframe to an interactive table.\"\n",
              "              style=\"display:none;\">\n",
              "        \n",
              "  <svg xmlns=\"http://www.w3.org/2000/svg\" height=\"24px\"viewBox=\"0 0 24 24\"\n",
              "       width=\"24px\">\n",
              "    <path d=\"M0 0h24v24H0V0z\" fill=\"none\"/>\n",
              "    <path d=\"M18.56 5.44l.94 2.06.94-2.06 2.06-.94-2.06-.94-.94-2.06-.94 2.06-2.06.94zm-11 1L8.5 8.5l.94-2.06 2.06-.94-2.06-.94L8.5 2.5l-.94 2.06-2.06.94zm10 10l.94 2.06.94-2.06 2.06-.94-2.06-.94-.94-2.06-.94 2.06-2.06.94z\"/><path d=\"M17.41 7.96l-1.37-1.37c-.4-.4-.92-.59-1.43-.59-.52 0-1.04.2-1.43.59L10.3 9.45l-7.72 7.72c-.78.78-.78 2.05 0 2.83L4 21.41c.39.39.9.59 1.41.59.51 0 1.02-.2 1.41-.59l7.78-7.78 2.81-2.81c.8-.78.8-2.07 0-2.86zM5.41 20L4 18.59l7.72-7.72 1.47 1.35L5.41 20z\"/>\n",
              "  </svg>\n",
              "      </button>\n",
              "      \n",
              "  <style>\n",
              "    .colab-df-container {\n",
              "      display:flex;\n",
              "      flex-wrap:wrap;\n",
              "      gap: 12px;\n",
              "    }\n",
              "\n",
              "    .colab-df-convert {\n",
              "      background-color: #E8F0FE;\n",
              "      border: none;\n",
              "      border-radius: 50%;\n",
              "      cursor: pointer;\n",
              "      display: none;\n",
              "      fill: #1967D2;\n",
              "      height: 32px;\n",
              "      padding: 0 0 0 0;\n",
              "      width: 32px;\n",
              "    }\n",
              "\n",
              "    .colab-df-convert:hover {\n",
              "      background-color: #E2EBFA;\n",
              "      box-shadow: 0px 1px 2px rgba(60, 64, 67, 0.3), 0px 1px 3px 1px rgba(60, 64, 67, 0.15);\n",
              "      fill: #174EA6;\n",
              "    }\n",
              "\n",
              "    [theme=dark] .colab-df-convert {\n",
              "      background-color: #3B4455;\n",
              "      fill: #D2E3FC;\n",
              "    }\n",
              "\n",
              "    [theme=dark] .colab-df-convert:hover {\n",
              "      background-color: #434B5C;\n",
              "      box-shadow: 0px 1px 3px 1px rgba(0, 0, 0, 0.15);\n",
              "      filter: drop-shadow(0px 1px 2px rgba(0, 0, 0, 0.3));\n",
              "      fill: #FFFFFF;\n",
              "    }\n",
              "  </style>\n",
              "\n",
              "      <script>\n",
              "        const buttonEl =\n",
              "          document.querySelector('#df-a5171b41-d418-42ad-82af-1613fcb2ee4e button.colab-df-convert');\n",
              "        buttonEl.style.display =\n",
              "          google.colab.kernel.accessAllowed ? 'block' : 'none';\n",
              "\n",
              "        async function convertToInteractive(key) {\n",
              "          const element = document.querySelector('#df-a5171b41-d418-42ad-82af-1613fcb2ee4e');\n",
              "          const dataTable =\n",
              "            await google.colab.kernel.invokeFunction('convertToInteractive',\n",
              "                                                     [key], {});\n",
              "          if (!dataTable) return;\n",
              "\n",
              "          const docLinkHtml = 'Like what you see? Visit the ' +\n",
              "            '<a target=\"_blank\" href=https://colab.research.google.com/notebooks/data_table.ipynb>data table notebook</a>'\n",
              "            + ' to learn more about interactive tables.';\n",
              "          element.innerHTML = '';\n",
              "          dataTable['output_type'] = 'display_data';\n",
              "          await google.colab.output.renderOutput(dataTable, element);\n",
              "          const docLink = document.createElement('div');\n",
              "          docLink.innerHTML = docLinkHtml;\n",
              "          element.appendChild(docLink);\n",
              "        }\n",
              "      </script>\n",
              "    </div>\n",
              "  </div>\n",
              "  "
            ]
          },
          "metadata": {},
          "execution_count": 2
        }
      ]
    },
    {
      "cell_type": "markdown",
      "source": [
        "Uh-oh! We have a problem. Reading through the README file, we see that the result_id column represents a segment of road, but those codes are not readible. We need to translate those codes so we can extract the data for the segment we're interested in (Bathurst to Spadina). To do that, we need to look at the GeoJSON data.\n",
        "\n",
        "**We need to install a library to do that!**"
      ],
      "metadata": {
        "id": "rcnE9XxzcHNI"
      }
    },
    {
      "cell_type": "code",
      "source": [
        "!pip install geopandas"
      ],
      "metadata": {
        "id": "L3c28QgpWInB",
        "colab": {
          "base_uri": "https://localhost:8080/"
        },
        "outputId": "c482baf5-9d21-4c0a-9be4-6c740d367298"
      },
      "execution_count": null,
      "outputs": [
        {
          "output_type": "stream",
          "name": "stdout",
          "text": [
            "Looking in indexes: https://pypi.org/simple, https://us-python.pkg.dev/colab-wheels/public/simple/\n",
            "Collecting geopandas\n",
            "  Downloading geopandas-0.10.2-py2.py3-none-any.whl (1.0 MB)\n",
            "\u001b[K     |████████████████████████████████| 1.0 MB 5.1 MB/s \n",
            "\u001b[?25hRequirement already satisfied: pandas>=0.25.0 in /usr/local/lib/python3.7/dist-packages (from geopandas) (1.3.5)\n",
            "Requirement already satisfied: shapely>=1.6 in /usr/local/lib/python3.7/dist-packages (from geopandas) (1.8.2)\n",
            "Collecting fiona>=1.8\n",
            "  Downloading Fiona-1.8.21-cp37-cp37m-manylinux2014_x86_64.whl (16.7 MB)\n",
            "\u001b[K     |████████████████████████████████| 16.7 MB 376 kB/s \n",
            "\u001b[?25hCollecting pyproj>=2.2.0\n",
            "  Downloading pyproj-3.2.1-cp37-cp37m-manylinux2010_x86_64.whl (6.3 MB)\n",
            "\u001b[K     |████████████████████████████████| 6.3 MB 34.6 MB/s \n",
            "\u001b[?25hCollecting munch\n",
            "  Downloading munch-2.5.0-py2.py3-none-any.whl (10 kB)\n",
            "Requirement already satisfied: attrs>=17 in /usr/local/lib/python3.7/dist-packages (from fiona>=1.8->geopandas) (21.4.0)\n",
            "Requirement already satisfied: certifi in /usr/local/lib/python3.7/dist-packages (from fiona>=1.8->geopandas) (2022.6.15)\n",
            "Requirement already satisfied: click>=4.0 in /usr/local/lib/python3.7/dist-packages (from fiona>=1.8->geopandas) (7.1.2)\n",
            "Requirement already satisfied: setuptools in /usr/local/lib/python3.7/dist-packages (from fiona>=1.8->geopandas) (57.4.0)\n",
            "Collecting click-plugins>=1.0\n",
            "  Downloading click_plugins-1.1.1-py2.py3-none-any.whl (7.5 kB)\n",
            "Requirement already satisfied: six>=1.7 in /usr/local/lib/python3.7/dist-packages (from fiona>=1.8->geopandas) (1.15.0)\n",
            "Collecting cligj>=0.5\n",
            "  Downloading cligj-0.7.2-py3-none-any.whl (7.1 kB)\n",
            "Requirement already satisfied: numpy>=1.17.3 in /usr/local/lib/python3.7/dist-packages (from pandas>=0.25.0->geopandas) (1.21.6)\n",
            "Requirement already satisfied: pytz>=2017.3 in /usr/local/lib/python3.7/dist-packages (from pandas>=0.25.0->geopandas) (2022.1)\n",
            "Requirement already satisfied: python-dateutil>=2.7.3 in /usr/local/lib/python3.7/dist-packages (from pandas>=0.25.0->geopandas) (2.8.2)\n",
            "Installing collected packages: munch, cligj, click-plugins, pyproj, fiona, geopandas\n",
            "Successfully installed click-plugins-1.1.1 cligj-0.7.2 fiona-1.8.21 geopandas-0.10.2 munch-2.5.0 pyproj-3.2.1\n"
          ]
        }
      ]
    },
    {
      "cell_type": "code",
      "source": [
        "import geopandas as gpd"
      ],
      "metadata": {
        "id": "L0tdpJiGcgw0"
      },
      "execution_count": null,
      "outputs": []
    },
    {
      "cell_type": "code",
      "source": [
        "# GeoJSON file that describes the segments\n",
        "url_seg = 'https://ckan0.cf.opendata.inter.prod-toronto.ca/dataset/b24095b2-8c2f-43d9-a257-b351c61432a6/resource/12f52800-9435-4c30-b38f-076b4dfedb32/download/bluetooth-travel-time-segments-geojson.geojson'\n",
        "\n",
        "df_places = gpd.read_file(url_seg)\n",
        "\n",
        "df_places.head()\n"
      ],
      "metadata": {
        "id": "0FgevEL-WMeL",
        "colab": {
          "base_uri": "https://localhost:8080/",
          "height": 206
        },
        "outputId": "c7ab862d-59f6-4cd4-fd14-87cd8288f0b9"
      },
      "execution_count": null,
      "outputs": [
        {
          "output_type": "execute_result",
          "data": {
            "text/plain": [
              "  segment_name      street direction from_intersection to_intersection  \\\n",
              "0  DU_BA_CO_BA    Bathurst        NB            Dundas         College   \n",
              "1  CO_BA_CO_UN     College        EB          Bathurst      University   \n",
              "2  CO_PA_CO_UN     College        WB        Parliament      University   \n",
              "3  CO_PA_DU_PA  Parliament        SB           College          Dundas   \n",
              "4  CO_UN_CO_BA     College        WB        University        Bathurst   \n",
              "\n",
              "   length                                           geometry  \n",
              "0     510  MULTILINESTRING ((-79.40602 43.65231, -79.4068...  \n",
              "1    1430  MULTILINESTRING ((-79.40772 43.65648, -79.4065...  \n",
              "2    1895  MULTILINESTRING ((-79.36798 43.66429, -79.3693...  \n",
              "3     586  MULTILINESTRING ((-79.36798 43.66429, -79.3678...  \n",
              "4    1430  MULTILINESTRING ((-79.39049 43.65986, -79.3925...  "
            ],
            "text/html": [
              "\n",
              "  <div id=\"df-9cb22c23-ba91-45dd-aaa8-6f94bf54ef73\">\n",
              "    <div class=\"colab-df-container\">\n",
              "      <div>\n",
              "<style scoped>\n",
              "    .dataframe tbody tr th:only-of-type {\n",
              "        vertical-align: middle;\n",
              "    }\n",
              "\n",
              "    .dataframe tbody tr th {\n",
              "        vertical-align: top;\n",
              "    }\n",
              "\n",
              "    .dataframe thead th {\n",
              "        text-align: right;\n",
              "    }\n",
              "</style>\n",
              "<table border=\"1\" class=\"dataframe\">\n",
              "  <thead>\n",
              "    <tr style=\"text-align: right;\">\n",
              "      <th></th>\n",
              "      <th>segment_name</th>\n",
              "      <th>street</th>\n",
              "      <th>direction</th>\n",
              "      <th>from_intersection</th>\n",
              "      <th>to_intersection</th>\n",
              "      <th>length</th>\n",
              "      <th>geometry</th>\n",
              "    </tr>\n",
              "  </thead>\n",
              "  <tbody>\n",
              "    <tr>\n",
              "      <th>0</th>\n",
              "      <td>DU_BA_CO_BA</td>\n",
              "      <td>Bathurst</td>\n",
              "      <td>NB</td>\n",
              "      <td>Dundas</td>\n",
              "      <td>College</td>\n",
              "      <td>510</td>\n",
              "      <td>MULTILINESTRING ((-79.40602 43.65231, -79.4068...</td>\n",
              "    </tr>\n",
              "    <tr>\n",
              "      <th>1</th>\n",
              "      <td>CO_BA_CO_UN</td>\n",
              "      <td>College</td>\n",
              "      <td>EB</td>\n",
              "      <td>Bathurst</td>\n",
              "      <td>University</td>\n",
              "      <td>1430</td>\n",
              "      <td>MULTILINESTRING ((-79.40772 43.65648, -79.4065...</td>\n",
              "    </tr>\n",
              "    <tr>\n",
              "      <th>2</th>\n",
              "      <td>CO_PA_CO_UN</td>\n",
              "      <td>College</td>\n",
              "      <td>WB</td>\n",
              "      <td>Parliament</td>\n",
              "      <td>University</td>\n",
              "      <td>1895</td>\n",
              "      <td>MULTILINESTRING ((-79.36798 43.66429, -79.3693...</td>\n",
              "    </tr>\n",
              "    <tr>\n",
              "      <th>3</th>\n",
              "      <td>CO_PA_DU_PA</td>\n",
              "      <td>Parliament</td>\n",
              "      <td>SB</td>\n",
              "      <td>College</td>\n",
              "      <td>Dundas</td>\n",
              "      <td>586</td>\n",
              "      <td>MULTILINESTRING ((-79.36798 43.66429, -79.3678...</td>\n",
              "    </tr>\n",
              "    <tr>\n",
              "      <th>4</th>\n",
              "      <td>CO_UN_CO_BA</td>\n",
              "      <td>College</td>\n",
              "      <td>WB</td>\n",
              "      <td>University</td>\n",
              "      <td>Bathurst</td>\n",
              "      <td>1430</td>\n",
              "      <td>MULTILINESTRING ((-79.39049 43.65986, -79.3925...</td>\n",
              "    </tr>\n",
              "  </tbody>\n",
              "</table>\n",
              "</div>\n",
              "      <button class=\"colab-df-convert\" onclick=\"convertToInteractive('df-9cb22c23-ba91-45dd-aaa8-6f94bf54ef73')\"\n",
              "              title=\"Convert this dataframe to an interactive table.\"\n",
              "              style=\"display:none;\">\n",
              "        \n",
              "  <svg xmlns=\"http://www.w3.org/2000/svg\" height=\"24px\"viewBox=\"0 0 24 24\"\n",
              "       width=\"24px\">\n",
              "    <path d=\"M0 0h24v24H0V0z\" fill=\"none\"/>\n",
              "    <path d=\"M18.56 5.44l.94 2.06.94-2.06 2.06-.94-2.06-.94-.94-2.06-.94 2.06-2.06.94zm-11 1L8.5 8.5l.94-2.06 2.06-.94-2.06-.94L8.5 2.5l-.94 2.06-2.06.94zm10 10l.94 2.06.94-2.06 2.06-.94-2.06-.94-.94-2.06-.94 2.06-2.06.94z\"/><path d=\"M17.41 7.96l-1.37-1.37c-.4-.4-.92-.59-1.43-.59-.52 0-1.04.2-1.43.59L10.3 9.45l-7.72 7.72c-.78.78-.78 2.05 0 2.83L4 21.41c.39.39.9.59 1.41.59.51 0 1.02-.2 1.41-.59l7.78-7.78 2.81-2.81c.8-.78.8-2.07 0-2.86zM5.41 20L4 18.59l7.72-7.72 1.47 1.35L5.41 20z\"/>\n",
              "  </svg>\n",
              "      </button>\n",
              "      \n",
              "  <style>\n",
              "    .colab-df-container {\n",
              "      display:flex;\n",
              "      flex-wrap:wrap;\n",
              "      gap: 12px;\n",
              "    }\n",
              "\n",
              "    .colab-df-convert {\n",
              "      background-color: #E8F0FE;\n",
              "      border: none;\n",
              "      border-radius: 50%;\n",
              "      cursor: pointer;\n",
              "      display: none;\n",
              "      fill: #1967D2;\n",
              "      height: 32px;\n",
              "      padding: 0 0 0 0;\n",
              "      width: 32px;\n",
              "    }\n",
              "\n",
              "    .colab-df-convert:hover {\n",
              "      background-color: #E2EBFA;\n",
              "      box-shadow: 0px 1px 2px rgba(60, 64, 67, 0.3), 0px 1px 3px 1px rgba(60, 64, 67, 0.15);\n",
              "      fill: #174EA6;\n",
              "    }\n",
              "\n",
              "    [theme=dark] .colab-df-convert {\n",
              "      background-color: #3B4455;\n",
              "      fill: #D2E3FC;\n",
              "    }\n",
              "\n",
              "    [theme=dark] .colab-df-convert:hover {\n",
              "      background-color: #434B5C;\n",
              "      box-shadow: 0px 1px 3px 1px rgba(0, 0, 0, 0.15);\n",
              "      filter: drop-shadow(0px 1px 2px rgba(0, 0, 0, 0.3));\n",
              "      fill: #FFFFFF;\n",
              "    }\n",
              "  </style>\n",
              "\n",
              "      <script>\n",
              "        const buttonEl =\n",
              "          document.querySelector('#df-9cb22c23-ba91-45dd-aaa8-6f94bf54ef73 button.colab-df-convert');\n",
              "        buttonEl.style.display =\n",
              "          google.colab.kernel.accessAllowed ? 'block' : 'none';\n",
              "\n",
              "        async function convertToInteractive(key) {\n",
              "          const element = document.querySelector('#df-9cb22c23-ba91-45dd-aaa8-6f94bf54ef73');\n",
              "          const dataTable =\n",
              "            await google.colab.kernel.invokeFunction('convertToInteractive',\n",
              "                                                     [key], {});\n",
              "          if (!dataTable) return;\n",
              "\n",
              "          const docLinkHtml = 'Like what you see? Visit the ' +\n",
              "            '<a target=\"_blank\" href=https://colab.research.google.com/notebooks/data_table.ipynb>data table notebook</a>'\n",
              "            + ' to learn more about interactive tables.';\n",
              "          element.innerHTML = '';\n",
              "          dataTable['output_type'] = 'display_data';\n",
              "          await google.colab.output.renderOutput(dataTable, element);\n",
              "          const docLink = document.createElement('div');\n",
              "          docLink.innerHTML = docLinkHtml;\n",
              "          element.appendChild(docLink);\n",
              "        }\n",
              "      </script>\n",
              "    </div>\n",
              "  </div>\n",
              "  "
            ]
          },
          "metadata": {},
          "execution_count": 5
        }
      ]
    },
    {
      "cell_type": "markdown",
      "source": [
        "Now we're going to use conditional indexing to find the segment name that goes from Bathurst to Spadina."
      ],
      "metadata": {
        "id": "97_fwXGiAFxh"
      }
    },
    {
      "cell_type": "code",
      "source": [
        "df1 = df_places[df_places['street'] == 'King']\n",
        "\n",
        "df2 = df1[df1['from_intersection'] == 'Bathurst']\n",
        "\n",
        "df3 = df2[df2['to_intersection'] == 'Spadina']\n",
        "\n",
        "df3"
      ],
      "metadata": {
        "id": "XZi7lAA1XTCY",
        "colab": {
          "base_uri": "https://localhost:8080/",
          "height": 81
        },
        "outputId": "7d290e93-95ee-4889-bab1-24c00cdbf9a6"
      },
      "execution_count": null,
      "outputs": [
        {
          "output_type": "execute_result",
          "data": {
            "text/plain": [
              "   segment_name street direction from_intersection to_intersection  length  \\\n",
              "92  KN_BA_KN_SP   King        EB          Bathurst         Spadina     642   \n",
              "\n",
              "                                             geometry  \n",
              "92  MULTILINESTRING ((-79.40271 43.64393, -79.4008...  "
            ],
            "text/html": [
              "\n",
              "  <div id=\"df-22fc61a2-bd26-45dd-a9f4-6c2bedff1c47\">\n",
              "    <div class=\"colab-df-container\">\n",
              "      <div>\n",
              "<style scoped>\n",
              "    .dataframe tbody tr th:only-of-type {\n",
              "        vertical-align: middle;\n",
              "    }\n",
              "\n",
              "    .dataframe tbody tr th {\n",
              "        vertical-align: top;\n",
              "    }\n",
              "\n",
              "    .dataframe thead th {\n",
              "        text-align: right;\n",
              "    }\n",
              "</style>\n",
              "<table border=\"1\" class=\"dataframe\">\n",
              "  <thead>\n",
              "    <tr style=\"text-align: right;\">\n",
              "      <th></th>\n",
              "      <th>segment_name</th>\n",
              "      <th>street</th>\n",
              "      <th>direction</th>\n",
              "      <th>from_intersection</th>\n",
              "      <th>to_intersection</th>\n",
              "      <th>length</th>\n",
              "      <th>geometry</th>\n",
              "    </tr>\n",
              "  </thead>\n",
              "  <tbody>\n",
              "    <tr>\n",
              "      <th>92</th>\n",
              "      <td>KN_BA_KN_SP</td>\n",
              "      <td>King</td>\n",
              "      <td>EB</td>\n",
              "      <td>Bathurst</td>\n",
              "      <td>Spadina</td>\n",
              "      <td>642</td>\n",
              "      <td>MULTILINESTRING ((-79.40271 43.64393, -79.4008...</td>\n",
              "    </tr>\n",
              "  </tbody>\n",
              "</table>\n",
              "</div>\n",
              "      <button class=\"colab-df-convert\" onclick=\"convertToInteractive('df-22fc61a2-bd26-45dd-a9f4-6c2bedff1c47')\"\n",
              "              title=\"Convert this dataframe to an interactive table.\"\n",
              "              style=\"display:none;\">\n",
              "        \n",
              "  <svg xmlns=\"http://www.w3.org/2000/svg\" height=\"24px\"viewBox=\"0 0 24 24\"\n",
              "       width=\"24px\">\n",
              "    <path d=\"M0 0h24v24H0V0z\" fill=\"none\"/>\n",
              "    <path d=\"M18.56 5.44l.94 2.06.94-2.06 2.06-.94-2.06-.94-.94-2.06-.94 2.06-2.06.94zm-11 1L8.5 8.5l.94-2.06 2.06-.94-2.06-.94L8.5 2.5l-.94 2.06-2.06.94zm10 10l.94 2.06.94-2.06 2.06-.94-2.06-.94-.94-2.06-.94 2.06-2.06.94z\"/><path d=\"M17.41 7.96l-1.37-1.37c-.4-.4-.92-.59-1.43-.59-.52 0-1.04.2-1.43.59L10.3 9.45l-7.72 7.72c-.78.78-.78 2.05 0 2.83L4 21.41c.39.39.9.59 1.41.59.51 0 1.02-.2 1.41-.59l7.78-7.78 2.81-2.81c.8-.78.8-2.07 0-2.86zM5.41 20L4 18.59l7.72-7.72 1.47 1.35L5.41 20z\"/>\n",
              "  </svg>\n",
              "      </button>\n",
              "      \n",
              "  <style>\n",
              "    .colab-df-container {\n",
              "      display:flex;\n",
              "      flex-wrap:wrap;\n",
              "      gap: 12px;\n",
              "    }\n",
              "\n",
              "    .colab-df-convert {\n",
              "      background-color: #E8F0FE;\n",
              "      border: none;\n",
              "      border-radius: 50%;\n",
              "      cursor: pointer;\n",
              "      display: none;\n",
              "      fill: #1967D2;\n",
              "      height: 32px;\n",
              "      padding: 0 0 0 0;\n",
              "      width: 32px;\n",
              "    }\n",
              "\n",
              "    .colab-df-convert:hover {\n",
              "      background-color: #E2EBFA;\n",
              "      box-shadow: 0px 1px 2px rgba(60, 64, 67, 0.3), 0px 1px 3px 1px rgba(60, 64, 67, 0.15);\n",
              "      fill: #174EA6;\n",
              "    }\n",
              "\n",
              "    [theme=dark] .colab-df-convert {\n",
              "      background-color: #3B4455;\n",
              "      fill: #D2E3FC;\n",
              "    }\n",
              "\n",
              "    [theme=dark] .colab-df-convert:hover {\n",
              "      background-color: #434B5C;\n",
              "      box-shadow: 0px 1px 3px 1px rgba(0, 0, 0, 0.15);\n",
              "      filter: drop-shadow(0px 1px 2px rgba(0, 0, 0, 0.3));\n",
              "      fill: #FFFFFF;\n",
              "    }\n",
              "  </style>\n",
              "\n",
              "      <script>\n",
              "        const buttonEl =\n",
              "          document.querySelector('#df-22fc61a2-bd26-45dd-a9f4-6c2bedff1c47 button.colab-df-convert');\n",
              "        buttonEl.style.display =\n",
              "          google.colab.kernel.accessAllowed ? 'block' : 'none';\n",
              "\n",
              "        async function convertToInteractive(key) {\n",
              "          const element = document.querySelector('#df-22fc61a2-bd26-45dd-a9f4-6c2bedff1c47');\n",
              "          const dataTable =\n",
              "            await google.colab.kernel.invokeFunction('convertToInteractive',\n",
              "                                                     [key], {});\n",
              "          if (!dataTable) return;\n",
              "\n",
              "          const docLinkHtml = 'Like what you see? Visit the ' +\n",
              "            '<a target=\"_blank\" href=https://colab.research.google.com/notebooks/data_table.ipynb>data table notebook</a>'\n",
              "            + ' to learn more about interactive tables.';\n",
              "          element.innerHTML = '';\n",
              "          dataTable['output_type'] = 'display_data';\n",
              "          await google.colab.output.renderOutput(dataTable, element);\n",
              "          const docLink = document.createElement('div');\n",
              "          docLink.innerHTML = docLinkHtml;\n",
              "          element.appendChild(docLink);\n",
              "        }\n",
              "      </script>\n",
              "    </div>\n",
              "  </div>\n",
              "  "
            ]
          },
          "metadata": {},
          "execution_count": 6
        }
      ]
    },
    {
      "cell_type": "code",
      "source": [
        "df3['segment_name']"
      ],
      "metadata": {
        "id": "DtdCqwyPDDcj",
        "colab": {
          "base_uri": "https://localhost:8080/"
        },
        "outputId": "219ad364-ab3a-468a-9877-82abac37d9c7"
      },
      "execution_count": null,
      "outputs": [
        {
          "output_type": "execute_result",
          "data": {
            "text/plain": [
              "92    KN_BA_KN_SP\n",
              "Name: segment_name, dtype: object"
            ]
          },
          "metadata": {},
          "execution_count": 7
        }
      ]
    },
    {
      "cell_type": "code",
      "source": [
        "df3['segment_name'].iloc[0]"
      ],
      "metadata": {
        "id": "ebLiL9x5DFKs",
        "colab": {
          "base_uri": "https://localhost:8080/",
          "height": 35
        },
        "outputId": "258247b7-e902-4e30-a4bd-8d5ff969b76c"
      },
      "execution_count": null,
      "outputs": [
        {
          "output_type": "execute_result",
          "data": {
            "text/plain": [
              "'KN_BA_KN_SP'"
            ],
            "application/vnd.google.colaboratory.intrinsic+json": {
              "type": "string"
            }
          },
          "metadata": {},
          "execution_count": 8
        }
      ]
    },
    {
      "cell_type": "markdown",
      "source": [
        "The segment name we want to use is KN_BA_KN_SP. Let's use that to filter our data using more conditional indexing."
      ],
      "metadata": {
        "id": "MosWhgfRAORA"
      }
    },
    {
      "cell_type": "code",
      "source": [
        "bathurst_spadina = travel_times[travel_times['result_id'] == 'KN_BA_KN_SP']\n",
        "\n",
        "bathurst_spadina.head()"
      ],
      "metadata": {
        "id": "NMV6Vkf3XxkX",
        "colab": {
          "base_uri": "https://localhost:8080/",
          "height": 206
        },
        "outputId": "39800614-6080-4a98-f553-3084c7d0d9d6"
      },
      "execution_count": null,
      "outputs": [
        {
          "output_type": "execute_result",
          "data": {
            "text/plain": [
              "          result_id         datetime_bin day_type  category period_name  \\\n",
              "532070  KN_BA_KN_SP  2017-09-21 00:00:00  Weekday  Baseline         NaN   \n",
              "532071  KN_BA_KN_SP  2017-09-21 00:05:00  Weekday  Baseline         NaN   \n",
              "532072  KN_BA_KN_SP  2017-09-21 00:20:00  Weekday  Baseline         NaN   \n",
              "532073  KN_BA_KN_SP  2017-09-21 00:25:00  Weekday  Baseline         NaN   \n",
              "532074  KN_BA_KN_SP  2017-09-21 00:30:00  Weekday  Baseline         NaN   \n",
              "\n",
              "           tt  obs  \n",
              "532070  212.0    1  \n",
              "532071  296.0    1  \n",
              "532072  209.0    1  \n",
              "532073  175.0    1  \n",
              "532074  203.0    2  "
            ],
            "text/html": [
              "\n",
              "  <div id=\"df-b1893780-9b60-42f4-b54c-8f140cb65568\">\n",
              "    <div class=\"colab-df-container\">\n",
              "      <div>\n",
              "<style scoped>\n",
              "    .dataframe tbody tr th:only-of-type {\n",
              "        vertical-align: middle;\n",
              "    }\n",
              "\n",
              "    .dataframe tbody tr th {\n",
              "        vertical-align: top;\n",
              "    }\n",
              "\n",
              "    .dataframe thead th {\n",
              "        text-align: right;\n",
              "    }\n",
              "</style>\n",
              "<table border=\"1\" class=\"dataframe\">\n",
              "  <thead>\n",
              "    <tr style=\"text-align: right;\">\n",
              "      <th></th>\n",
              "      <th>result_id</th>\n",
              "      <th>datetime_bin</th>\n",
              "      <th>day_type</th>\n",
              "      <th>category</th>\n",
              "      <th>period_name</th>\n",
              "      <th>tt</th>\n",
              "      <th>obs</th>\n",
              "    </tr>\n",
              "  </thead>\n",
              "  <tbody>\n",
              "    <tr>\n",
              "      <th>532070</th>\n",
              "      <td>KN_BA_KN_SP</td>\n",
              "      <td>2017-09-21 00:00:00</td>\n",
              "      <td>Weekday</td>\n",
              "      <td>Baseline</td>\n",
              "      <td>NaN</td>\n",
              "      <td>212.0</td>\n",
              "      <td>1</td>\n",
              "    </tr>\n",
              "    <tr>\n",
              "      <th>532071</th>\n",
              "      <td>KN_BA_KN_SP</td>\n",
              "      <td>2017-09-21 00:05:00</td>\n",
              "      <td>Weekday</td>\n",
              "      <td>Baseline</td>\n",
              "      <td>NaN</td>\n",
              "      <td>296.0</td>\n",
              "      <td>1</td>\n",
              "    </tr>\n",
              "    <tr>\n",
              "      <th>532072</th>\n",
              "      <td>KN_BA_KN_SP</td>\n",
              "      <td>2017-09-21 00:20:00</td>\n",
              "      <td>Weekday</td>\n",
              "      <td>Baseline</td>\n",
              "      <td>NaN</td>\n",
              "      <td>209.0</td>\n",
              "      <td>1</td>\n",
              "    </tr>\n",
              "    <tr>\n",
              "      <th>532073</th>\n",
              "      <td>KN_BA_KN_SP</td>\n",
              "      <td>2017-09-21 00:25:00</td>\n",
              "      <td>Weekday</td>\n",
              "      <td>Baseline</td>\n",
              "      <td>NaN</td>\n",
              "      <td>175.0</td>\n",
              "      <td>1</td>\n",
              "    </tr>\n",
              "    <tr>\n",
              "      <th>532074</th>\n",
              "      <td>KN_BA_KN_SP</td>\n",
              "      <td>2017-09-21 00:30:00</td>\n",
              "      <td>Weekday</td>\n",
              "      <td>Baseline</td>\n",
              "      <td>NaN</td>\n",
              "      <td>203.0</td>\n",
              "      <td>2</td>\n",
              "    </tr>\n",
              "  </tbody>\n",
              "</table>\n",
              "</div>\n",
              "      <button class=\"colab-df-convert\" onclick=\"convertToInteractive('df-b1893780-9b60-42f4-b54c-8f140cb65568')\"\n",
              "              title=\"Convert this dataframe to an interactive table.\"\n",
              "              style=\"display:none;\">\n",
              "        \n",
              "  <svg xmlns=\"http://www.w3.org/2000/svg\" height=\"24px\"viewBox=\"0 0 24 24\"\n",
              "       width=\"24px\">\n",
              "    <path d=\"M0 0h24v24H0V0z\" fill=\"none\"/>\n",
              "    <path d=\"M18.56 5.44l.94 2.06.94-2.06 2.06-.94-2.06-.94-.94-2.06-.94 2.06-2.06.94zm-11 1L8.5 8.5l.94-2.06 2.06-.94-2.06-.94L8.5 2.5l-.94 2.06-2.06.94zm10 10l.94 2.06.94-2.06 2.06-.94-2.06-.94-.94-2.06-.94 2.06-2.06.94z\"/><path d=\"M17.41 7.96l-1.37-1.37c-.4-.4-.92-.59-1.43-.59-.52 0-1.04.2-1.43.59L10.3 9.45l-7.72 7.72c-.78.78-.78 2.05 0 2.83L4 21.41c.39.39.9.59 1.41.59.51 0 1.02-.2 1.41-.59l7.78-7.78 2.81-2.81c.8-.78.8-2.07 0-2.86zM5.41 20L4 18.59l7.72-7.72 1.47 1.35L5.41 20z\"/>\n",
              "  </svg>\n",
              "      </button>\n",
              "      \n",
              "  <style>\n",
              "    .colab-df-container {\n",
              "      display:flex;\n",
              "      flex-wrap:wrap;\n",
              "      gap: 12px;\n",
              "    }\n",
              "\n",
              "    .colab-df-convert {\n",
              "      background-color: #E8F0FE;\n",
              "      border: none;\n",
              "      border-radius: 50%;\n",
              "      cursor: pointer;\n",
              "      display: none;\n",
              "      fill: #1967D2;\n",
              "      height: 32px;\n",
              "      padding: 0 0 0 0;\n",
              "      width: 32px;\n",
              "    }\n",
              "\n",
              "    .colab-df-convert:hover {\n",
              "      background-color: #E2EBFA;\n",
              "      box-shadow: 0px 1px 2px rgba(60, 64, 67, 0.3), 0px 1px 3px 1px rgba(60, 64, 67, 0.15);\n",
              "      fill: #174EA6;\n",
              "    }\n",
              "\n",
              "    [theme=dark] .colab-df-convert {\n",
              "      background-color: #3B4455;\n",
              "      fill: #D2E3FC;\n",
              "    }\n",
              "\n",
              "    [theme=dark] .colab-df-convert:hover {\n",
              "      background-color: #434B5C;\n",
              "      box-shadow: 0px 1px 3px 1px rgba(0, 0, 0, 0.15);\n",
              "      filter: drop-shadow(0px 1px 2px rgba(0, 0, 0, 0.3));\n",
              "      fill: #FFFFFF;\n",
              "    }\n",
              "  </style>\n",
              "\n",
              "      <script>\n",
              "        const buttonEl =\n",
              "          document.querySelector('#df-b1893780-9b60-42f4-b54c-8f140cb65568 button.colab-df-convert');\n",
              "        buttonEl.style.display =\n",
              "          google.colab.kernel.accessAllowed ? 'block' : 'none';\n",
              "\n",
              "        async function convertToInteractive(key) {\n",
              "          const element = document.querySelector('#df-b1893780-9b60-42f4-b54c-8f140cb65568');\n",
              "          const dataTable =\n",
              "            await google.colab.kernel.invokeFunction('convertToInteractive',\n",
              "                                                     [key], {});\n",
              "          if (!dataTable) return;\n",
              "\n",
              "          const docLinkHtml = 'Like what you see? Visit the ' +\n",
              "            '<a target=\"_blank\" href=https://colab.research.google.com/notebooks/data_table.ipynb>data table notebook</a>'\n",
              "            + ' to learn more about interactive tables.';\n",
              "          element.innerHTML = '';\n",
              "          dataTable['output_type'] = 'display_data';\n",
              "          await google.colab.output.renderOutput(dataTable, element);\n",
              "          const docLink = document.createElement('div');\n",
              "          docLink.innerHTML = docLinkHtml;\n",
              "          element.appendChild(docLink);\n",
              "        }\n",
              "      </script>\n",
              "    </div>\n",
              "  </div>\n",
              "  "
            ]
          },
          "metadata": {},
          "execution_count": 9
        }
      ]
    },
    {
      "cell_type": "markdown",
      "source": [
        "Now let's describe our current dataset."
      ],
      "metadata": {
        "id": "g6hBzghBAXCt"
      }
    },
    {
      "cell_type": "code",
      "source": [
        "bathurst_spadina.describe(include='all')"
      ],
      "metadata": {
        "id": "v1coewFmX7dO"
      },
      "execution_count": null,
      "outputs": []
    },
    {
      "cell_type": "markdown",
      "source": [
        "Let's analyze what the unique values are in each of our columns."
      ],
      "metadata": {
        "id": "wBHB4LpBAbg6"
      }
    },
    {
      "cell_type": "code",
      "source": [
        "bathurst_spadina['period_name'].unique()"
      ],
      "metadata": {
        "id": "BsQx2AxodpZx"
      },
      "execution_count": null,
      "outputs": []
    },
    {
      "cell_type": "code",
      "source": [
        "bathurst_spadina['day_type'].unique()"
      ],
      "metadata": {
        "id": "QHHGHQpTe6E0"
      },
      "execution_count": null,
      "outputs": []
    },
    {
      "cell_type": "code",
      "source": [
        "bathurst_spadina['category'].unique()"
      ],
      "metadata": {
        "id": "6eLSa7PhfVNk"
      },
      "execution_count": null,
      "outputs": []
    },
    {
      "cell_type": "markdown",
      "source": [
        "# Defining Metrics\n",
        "\n",
        "In order to conclude whether private vehicle traffic was \"better\" or \"worse\", we need to come up with a definition for \"better\" or \"worse\"\n",
        "\n",
        "Some options:\n",
        "- Average travel time between Bathurst and Jarvis\n",
        "- Average travel time between Bathurst and Spadina\n",
        "- Average travel time during peak periods (7-10AM, 4-7PM)\n",
        "- Median travel time during specific periods"
      ],
      "metadata": {
        "id": "M9P_91v3Jl5H"
      }
    },
    {
      "cell_type": "markdown",
      "source": [
        "**Why would we care more about traffic during peak periods than we do in the evenings and weekends?**"
      ],
      "metadata": {
        "id": "xyS8Px08xysW"
      }
    },
    {
      "cell_type": "markdown",
      "source": [
        "We're going to calculate the average private vehicle travel time for peak periods between Bathurst and Spadina (Eastbound), ***before*** and ***after*** the pilot."
      ],
      "metadata": {
        "id": "AhB2LPEwi20v"
      }
    },
    {
      "cell_type": "markdown",
      "source": [
        "# Data Cleaning\n",
        "\n",
        "In this context, data cleaning means we're going to:\n",
        "- Get rid of missing data or erroneous data\n",
        "- Filter to include only the data we want to analyze\n",
        "- Aggregate the data to make the analysis simpler\n",
        "- Calculate our metrics\n"
      ],
      "metadata": {
        "id": "CKd_0XV8PIVC"
      }
    },
    {
      "cell_type": "markdown",
      "source": [
        "First we are going to drop missing data - any data where the 'period_name' column is null. To do that, we will use the Pandas DataFrame [dropna() function](https://pandas.pydata.org/docs/reference/api/pandas.DataFrame.dropna.html)."
      ],
      "metadata": {
        "id": "EhmifE76yn9M"
      }
    },
    {
      "cell_type": "code",
      "source": [
        "bathurst_spadina['period_name']"
      ],
      "metadata": {
        "id": "ZiJYcPHYysvs"
      },
      "execution_count": null,
      "outputs": []
    },
    {
      "cell_type": "code",
      "source": [
        "bathurst_spadina['period_name'].unique()"
      ],
      "metadata": {
        "id": "MuXas6xryvld"
      },
      "execution_count": null,
      "outputs": []
    },
    {
      "cell_type": "code",
      "source": [
        "bathurst_spadina = bathurst_spadina.dropna(subset=['period_name'])"
      ],
      "metadata": {
        "id": "pm3_5MYUeTqe"
      },
      "execution_count": null,
      "outputs": []
    },
    {
      "cell_type": "markdown",
      "source": [
        "Second, we're going to slice the data to include only the data from either the \"Baseline\" or \"Pilot\" categories. We're going to use conditional indexing to do this. Recall that:"
      ],
      "metadata": {
        "id": "DN7CQoCqzKVc"
      }
    },
    {
      "cell_type": "code",
      "source": [
        "bathurst_spadina['category'].unique()"
      ],
      "metadata": {
        "id": "IS8Hk4kMzb3j"
      },
      "execution_count": null,
      "outputs": []
    },
    {
      "cell_type": "code",
      "source": [
        "bathurst_spadina = bathurst_spadina[bathurst_spadina['category'] != 'Excluded']"
      ],
      "metadata": {
        "id": "jbF4jDk9ifiq"
      },
      "execution_count": null,
      "outputs": []
    },
    {
      "cell_type": "markdown",
      "source": [
        "Now there should be no more \"Excluded\" category in the dataset:"
      ],
      "metadata": {
        "id": "4esVeTVV6LSe"
      }
    },
    {
      "cell_type": "code",
      "source": [
        "bathurst_spadina['category'].unique()"
      ],
      "metadata": {
        "id": "qiFmLEtxzzWZ"
      },
      "execution_count": null,
      "outputs": []
    },
    {
      "cell_type": "markdown",
      "source": [
        "Now, let's use Pandas [Groupby()](https://pandas.pydata.org/docs/reference/api/pandas.DataFrame.groupby.html) to aggregate the data and calculate the mean travel time in seconds."
      ],
      "metadata": {
        "id": "NlCNIC4K6RXz"
      }
    },
    {
      "cell_type": "code",
      "source": [
        "compare_summary = bathurst_spadina.groupby(['category', 'period_name']).mean()\n",
        "compare_summary"
      ],
      "metadata": {
        "id": "837qJTddh0Nd"
      },
      "execution_count": null,
      "outputs": []
    },
    {
      "cell_type": "markdown",
      "source": [
        "The Pandas GroupBy function **makes the groups into indices**. Let's reset the index to undo that."
      ],
      "metadata": {
        "id": "HduFzSigotKO"
      }
    },
    {
      "cell_type": "code",
      "source": [
        "compare_summary = compare_summary.reset_index()\n",
        "compare_summary"
      ],
      "metadata": {
        "id": "SBcBXMUjo0cY"
      },
      "execution_count": null,
      "outputs": []
    },
    {
      "cell_type": "markdown",
      "source": [
        "**Melted vs Pivoted Data**\n",
        "\n",
        "\n",
        "**Melting Data**\n",
        "\n",
        "<img src='https://pandas.pydata.org/pandas-docs/dev/_images/reshaping_melt.png' width=600>\n",
        "\n",
        "**Pivoting Data - We're going to Pivot this data!**\n",
        "\n",
        "<img src='https://pandas.pydata.org/pandas-docs/dev/_images/reshaping_pivot.png' width=600>"
      ],
      "metadata": {
        "id": "9Or4d6xJyXUP"
      }
    },
    {
      "cell_type": "code",
      "source": [
        "compare_summary.pivot(index='period_name', columns='category', values='tt')"
      ],
      "metadata": {
        "id": "_ythPBfMyGFv"
      },
      "execution_count": null,
      "outputs": []
    },
    {
      "cell_type": "code",
      "source": [
        "pivoted_data = compare_summary.pivot(index='period_name', columns='category', values='tt')\n",
        "pivoted_data"
      ],
      "metadata": {
        "id": "n3KQpJeD1sP5"
      },
      "execution_count": null,
      "outputs": []
    },
    {
      "cell_type": "code",
      "source": [
        "pivoted_data['pct_diff'] = (pivoted_data['Pilot'] - pivoted_data['Baseline']) / pivoted_data['Baseline'] * 100\n",
        "\n",
        "pivoted_data"
      ],
      "metadata": {
        "id": "H-bghoqr1zng"
      },
      "execution_count": null,
      "outputs": []
    },
    {
      "cell_type": "markdown",
      "source": [
        "# Visualizations"
      ],
      "metadata": {
        "id": "pJOd4B5PPMbA"
      }
    },
    {
      "cell_type": "code",
      "source": [
        "sns.barplot(data=compare_summary, x='period_name', y='tt', hue='category')"
      ],
      "metadata": {
        "id": "9EY7gZQ-8Nu-"
      },
      "execution_count": null,
      "outputs": []
    },
    {
      "cell_type": "code",
      "source": [
        "ax1 = pivoted_data['pct_diff'].plot(kind='bar', figsize=(12, 6))\n",
        "\n",
        "ax1.set_ylabel('Percent Change [%]')\n",
        "\n",
        "ax1.set_xlabel('Period Name')"
      ],
      "metadata": {
        "id": "fQzXTXcp-XRF"
      },
      "execution_count": null,
      "outputs": []
    },
    {
      "cell_type": "markdown",
      "source": [
        "# Generalizing (Writing Functions)"
      ],
      "metadata": {
        "id": "IkhP5xGFPVrM"
      }
    },
    {
      "cell_type": "markdown",
      "source": [
        "## Getting the Segment Code"
      ],
      "metadata": {
        "id": "2SouwkwDD5FF"
      }
    },
    {
      "cell_type": "code",
      "source": [
        "def get_segment(street_name, from_street, to_street, input_df):\n",
        "    \"\"\"Get the segment code from the street name and from/to streets.\"\"\"\n",
        "    # Copy code from  'Importing and Exploring the Data' section of Notebook\n",
        "    \n",
        "    # Instead of 'King', I use the function's input parameter street_name\n",
        "    # Instead of df_places, I use the function's input parameter input_df\n",
        "    # Old Code:\n",
        "    # df1 = df_places[df_places['street'] == 'King']\n",
        "    # Generalized Code:\n",
        "    df1 = input_df[input_df['street'] == street_name]\n",
        "    \n",
        "    # Old Code:\n",
        "    # df2 = df1[df1['from_intersection'] == 'Bathurst']\n",
        "    # Generalized Code:\n",
        "    df2 = df1[df1['from_intersection'] == from_street]\n",
        "    \n",
        "    # Instead of 'Spadina', I use the function's input parameter to_street\n",
        "    # Old Code:\n",
        "    # df3 = df2[df2['to_intersection'] == 'Spadina']\n",
        "    # Generalized Code:\n",
        "    df3 = df2[df2['to_intersection'] == to_street]\n",
        "    \n",
        "    # The resulting DataFrame has one row. But we still have to use indexing\n",
        "    # to extract the string. Get the column, then use iloc to get the value.\n",
        "    segment_code = df3['segment_name'].iloc[0]\n",
        "    \n",
        "    # Now we return the segment_code\n",
        "    return segment_code"
      ],
      "metadata": {
        "id": "fVI6L4De5XjP"
      },
      "execution_count": null,
      "outputs": []
    },
    {
      "cell_type": "code",
      "source": [
        "# Test the generalized code\n",
        "get_segment('King', 'Bathurst', 'Spadina', df_places)"
      ],
      "metadata": {
        "id": "RLpdvfE7t3kX"
      },
      "execution_count": null,
      "outputs": []
    },
    {
      "cell_type": "code",
      "source": [
        "segment_of_interest = get_segment('King', 'Bathurst', 'Spadina', df_places)\n",
        "\n",
        "print(segment_of_interest)"
      ],
      "metadata": {
        "id": "qPfedK6EvJQo"
      },
      "execution_count": null,
      "outputs": []
    },
    {
      "cell_type": "code",
      "source": [
        "# Test with different inputs\n",
        "segment_of_interest2 = get_segment('King', 'Yonge', 'Jarvis', df_places)\n",
        "\n",
        "print(segment_of_interest2)"
      ],
      "metadata": {
        "id": "see8B8ebFM9O"
      },
      "execution_count": null,
      "outputs": []
    },
    {
      "cell_type": "markdown",
      "source": [
        "## Processing the Data"
      ],
      "metadata": {
        "id": "_Bn_qD-gD8vf"
      }
    },
    {
      "cell_type": "code",
      "source": [
        "def get_analysis(input_times, segment_of_interest, group_column, minutes):\n",
        "    \"\"\"Clean and pivot our data.\"\"\"\n",
        "    # Copy the code from the \"Importing and Exploring the Data\" and \"Data Cleaning\" sections.\n",
        "    # Old Code:\n",
        "    # bathurst_spadina = travel_times[travel_times['result_id'] == 'KN_BA_KN_SP']\n",
        "    # Generalized Code:\n",
        "    segment_data = input_times[input_times['result_id'] == segment_of_interest]\n",
        "\n",
        "    # Old Code:\n",
        "    # bathurst_spadina = bathurst_spadina.dropna(subset=['period_name'])\n",
        "    # Generalized Code:\n",
        "    segment_data = segment_data.dropna(subset=['period_name'])\n",
        "    \n",
        "    # Old Code:\n",
        "    # bathurst_spadina = bathurst_spadina[bathurst_spadina['category'] != 'Excluded']\n",
        "    # Generalized Code:\n",
        "    segment_data = segment_data[segment_data['category'] != 'Excluded']\n",
        "\n",
        "    # Apply GroupBy to summarize the data.\n",
        "    # Old Code:\n",
        "    # compare_summary = bathurst_spadina.groupby(['category', 'period_name']).mean()\n",
        "    # Generalized Code:\n",
        "    compare_summary = segment_data.groupby(['category', group_column]).mean()\n",
        "\n",
        "    # Reset the index like we did before.\n",
        "    compare_summary = compare_summary.reset_index()\n",
        "\n",
        "    # Pivot the data.\n",
        "    # Old code is the same as the new code:\n",
        "    pivoted_data = compare_summary.pivot(index=group_column, columns='category', values='tt')\n",
        "\n",
        "    # Minutes or seconds:\n",
        "    if minutes == True:\n",
        "        pivoted_data = pivoted_data / 60\n",
        "\n",
        "    # Calculate the percent difference between Baseline and Pilot.\n",
        "    # Old code is the same as the new code:\n",
        "    pivoted_data['pct_diff'] = (pivoted_data['Pilot'] - pivoted_data['Baseline']) / pivoted_data['Baseline'] * 100\n",
        "\n",
        "    # Do we return the pivoted data or the melted data? You choose.\n",
        "    # Bonus/Optional: You can return both!\n",
        "    return pivoted_data\n"
      ],
      "metadata": {
        "id": "l7rFjRMBxZfy"
      },
      "execution_count": null,
      "outputs": []
    },
    {
      "cell_type": "code",
      "source": [
        "segment_of_interest = get_segment('King', 'Bathurst', 'Spadina', df_places)\n",
        "\n",
        "get_analysis(travel_times, segment_of_interest, 'period_name', False)"
      ],
      "metadata": {
        "id": "NGVTILlJ-Chn"
      },
      "execution_count": null,
      "outputs": []
    },
    {
      "cell_type": "code",
      "source": [
        "# Try with different inputs\n",
        "segment_of_interest = get_segment('King', 'Yonge', 'Jarvis', df_places)\n",
        "\n",
        "get_analysis(travel_times, segment_of_interest, 'period_name', True)"
      ],
      "metadata": {
        "id": "SVbN7sEBF-_B"
      },
      "execution_count": null,
      "outputs": []
    },
    {
      "cell_type": "markdown",
      "source": [
        "## Generalized Analysis"
      ],
      "metadata": {
        "id": "olHembRoAYqz"
      }
    },
    {
      "cell_type": "code",
      "source": [
        "# To change your analysis, you only have to change the variable names.\n",
        "street = 'King'\n",
        "from_street = 'Bathurst'\n",
        "to_street = 'Spadina'\n",
        "grouping_column = 'period_name'\n",
        "minutes_bool = False\n",
        "# --\n",
        "\n",
        "time_unit = 'seconds'\n",
        "if minutes_bool: # == True\n",
        "    time_unit = 'minutes'\n",
        "\n",
        "segment_of_interest = get_segment(street, from_street, to_street, df_places)\n",
        "\n",
        "pivoted_data = get_analysis(travel_times, segment_of_interest, grouping_column, minutes_bool)\n",
        "\n",
        "# Print the pivoted data\n",
        "print('Travel time in ' + time_unit)\n",
        "print('----------------')\n",
        "print(pivoted_data)\n",
        "\n",
        "print('')\n",
        "# Plot the pivoted data\n",
        "ax1 = pivoted_data['pct_diff'].plot(kind='bar', figsize=(12, 6))\n",
        "\n",
        "ax1.set_ylabel('Percent Change [%]')\n",
        "\n",
        "ax1.set_xlabel('Period Name')\n",
        "\n",
        "ax1.set_title('Percent Change in Travel Time: ' + from_street + ' to ' + to_street)"
      ],
      "metadata": {
        "id": "ZkQWX4mxAFmw"
      },
      "execution_count": null,
      "outputs": []
    },
    {
      "cell_type": "markdown",
      "source": [
        "# Course Assignment\n",
        "Answer the following question **Did traffic get better or worse?** on the following slices of the data\n",
        "- Weekdays from Yonge to Jarvis\n",
        "- Weekends from Jarvis to Parliament\n",
        "\n",
        "Calculate the travel times in your analysis in **minutes**, not **seconds**.\n",
        "\n",
        "You will be graded for completeness. If you follow the necessary steps and your code runs without error, you will get full marks.\n",
        "\n",
        "## Hints\n",
        "- Since we generalized our analysis, all you have to do is copy the 'Generalized Analysis' cell and change the variable names.\n",
        "- You may compare your answers with each other in the Slack.\n",
        "\n",
        "## Submission\n",
        "- Due date is 7 days from now.\n",
        "- Submit a Jupyter/Colab Notebook by sharing your saved copy of this Notebook with Adnan (adnan.rahman@weclouddata.com)\n",
        "- Your submission should include all your calculation steps and an answer to the question: **\"Did traffic get better or worse after the pilot?\"**\n"
      ],
      "metadata": {
        "id": "I2D-5yKF9o68"
      }
    },
    {
      "cell_type": "markdown",
      "source": [
        "# Assignment: Your Code Here"
      ],
      "metadata": {
        "id": "QsbxvOCb5TNN"
      }
    },
    {
      "cell_type": "code",
      "source": [
        "# Import libraries\n",
        "import pandas as pd\n",
        "import numpy as np\n",
        "import matplotlib.pyplot as plt\n",
        "import seaborn as sns\n",
        "\n",
        "sns.set_style('darkgrid')\n"
      ],
      "metadata": {
        "id": "azQVD1v_5VRL"
      },
      "execution_count": null,
      "outputs": []
    },
    {
      "cell_type": "code",
      "source": [
        "# Import travel time data\n",
        "travel_times_url = 'https://ckan0.cf.opendata.inter.prod-toronto.ca/dataset/e05188e5-7af8-426a-8080-942437526a16/resource/c0047fbc-73f2-40e6-8490-195c26195002/download/detailed-bluetooth-travel-time-2017.gz'\n",
        "\n",
        "time_interval = pd.read_csv(travel_times_url)\n",
        "\n",
        "time_interval.head()"
      ],
      "metadata": {
        "colab": {
          "base_uri": "https://localhost:8080/",
          "height": 206
        },
        "id": "YecSXgSRhjxF",
        "outputId": "a9c9bec3-de6e-4593-92e6-44cc0bef8975"
      },
      "execution_count": null,
      "outputs": [
        {
          "output_type": "execute_result",
          "data": {
            "text/plain": [
              "     result_id         datetime_bin day_type  category period_name     tt  obs\n",
              "0  CO_BA_CO_UN  2017-09-21 00:15:00  Weekday  Baseline         NaN  318.0    1\n",
              "1  CO_BA_CO_UN  2017-09-21 00:55:00  Weekday  Baseline         NaN  225.0    1\n",
              "2  CO_BA_CO_UN  2017-09-21 01:10:00  Weekday  Baseline         NaN  193.0    1\n",
              "3  CO_BA_CO_UN  2017-09-21 01:40:00  Weekday  Baseline         NaN  224.0    1\n",
              "4  CO_BA_CO_UN  2017-09-21 01:45:00  Weekday  Baseline         NaN  275.0    1"
            ],
            "text/html": [
              "\n",
              "  <div id=\"df-b707b704-f667-45a9-b347-5726d2680ca7\">\n",
              "    <div class=\"colab-df-container\">\n",
              "      <div>\n",
              "<style scoped>\n",
              "    .dataframe tbody tr th:only-of-type {\n",
              "        vertical-align: middle;\n",
              "    }\n",
              "\n",
              "    .dataframe tbody tr th {\n",
              "        vertical-align: top;\n",
              "    }\n",
              "\n",
              "    .dataframe thead th {\n",
              "        text-align: right;\n",
              "    }\n",
              "</style>\n",
              "<table border=\"1\" class=\"dataframe\">\n",
              "  <thead>\n",
              "    <tr style=\"text-align: right;\">\n",
              "      <th></th>\n",
              "      <th>result_id</th>\n",
              "      <th>datetime_bin</th>\n",
              "      <th>day_type</th>\n",
              "      <th>category</th>\n",
              "      <th>period_name</th>\n",
              "      <th>tt</th>\n",
              "      <th>obs</th>\n",
              "    </tr>\n",
              "  </thead>\n",
              "  <tbody>\n",
              "    <tr>\n",
              "      <th>0</th>\n",
              "      <td>CO_BA_CO_UN</td>\n",
              "      <td>2017-09-21 00:15:00</td>\n",
              "      <td>Weekday</td>\n",
              "      <td>Baseline</td>\n",
              "      <td>NaN</td>\n",
              "      <td>318.0</td>\n",
              "      <td>1</td>\n",
              "    </tr>\n",
              "    <tr>\n",
              "      <th>1</th>\n",
              "      <td>CO_BA_CO_UN</td>\n",
              "      <td>2017-09-21 00:55:00</td>\n",
              "      <td>Weekday</td>\n",
              "      <td>Baseline</td>\n",
              "      <td>NaN</td>\n",
              "      <td>225.0</td>\n",
              "      <td>1</td>\n",
              "    </tr>\n",
              "    <tr>\n",
              "      <th>2</th>\n",
              "      <td>CO_BA_CO_UN</td>\n",
              "      <td>2017-09-21 01:10:00</td>\n",
              "      <td>Weekday</td>\n",
              "      <td>Baseline</td>\n",
              "      <td>NaN</td>\n",
              "      <td>193.0</td>\n",
              "      <td>1</td>\n",
              "    </tr>\n",
              "    <tr>\n",
              "      <th>3</th>\n",
              "      <td>CO_BA_CO_UN</td>\n",
              "      <td>2017-09-21 01:40:00</td>\n",
              "      <td>Weekday</td>\n",
              "      <td>Baseline</td>\n",
              "      <td>NaN</td>\n",
              "      <td>224.0</td>\n",
              "      <td>1</td>\n",
              "    </tr>\n",
              "    <tr>\n",
              "      <th>4</th>\n",
              "      <td>CO_BA_CO_UN</td>\n",
              "      <td>2017-09-21 01:45:00</td>\n",
              "      <td>Weekday</td>\n",
              "      <td>Baseline</td>\n",
              "      <td>NaN</td>\n",
              "      <td>275.0</td>\n",
              "      <td>1</td>\n",
              "    </tr>\n",
              "  </tbody>\n",
              "</table>\n",
              "</div>\n",
              "      <button class=\"colab-df-convert\" onclick=\"convertToInteractive('df-b707b704-f667-45a9-b347-5726d2680ca7')\"\n",
              "              title=\"Convert this dataframe to an interactive table.\"\n",
              "              style=\"display:none;\">\n",
              "        \n",
              "  <svg xmlns=\"http://www.w3.org/2000/svg\" height=\"24px\"viewBox=\"0 0 24 24\"\n",
              "       width=\"24px\">\n",
              "    <path d=\"M0 0h24v24H0V0z\" fill=\"none\"/>\n",
              "    <path d=\"M18.56 5.44l.94 2.06.94-2.06 2.06-.94-2.06-.94-.94-2.06-.94 2.06-2.06.94zm-11 1L8.5 8.5l.94-2.06 2.06-.94-2.06-.94L8.5 2.5l-.94 2.06-2.06.94zm10 10l.94 2.06.94-2.06 2.06-.94-2.06-.94-.94-2.06-.94 2.06-2.06.94z\"/><path d=\"M17.41 7.96l-1.37-1.37c-.4-.4-.92-.59-1.43-.59-.52 0-1.04.2-1.43.59L10.3 9.45l-7.72 7.72c-.78.78-.78 2.05 0 2.83L4 21.41c.39.39.9.59 1.41.59.51 0 1.02-.2 1.41-.59l7.78-7.78 2.81-2.81c.8-.78.8-2.07 0-2.86zM5.41 20L4 18.59l7.72-7.72 1.47 1.35L5.41 20z\"/>\n",
              "  </svg>\n",
              "      </button>\n",
              "      \n",
              "  <style>\n",
              "    .colab-df-container {\n",
              "      display:flex;\n",
              "      flex-wrap:wrap;\n",
              "      gap: 12px;\n",
              "    }\n",
              "\n",
              "    .colab-df-convert {\n",
              "      background-color: #E8F0FE;\n",
              "      border: none;\n",
              "      border-radius: 50%;\n",
              "      cursor: pointer;\n",
              "      display: none;\n",
              "      fill: #1967D2;\n",
              "      height: 32px;\n",
              "      padding: 0 0 0 0;\n",
              "      width: 32px;\n",
              "    }\n",
              "\n",
              "    .colab-df-convert:hover {\n",
              "      background-color: #E2EBFA;\n",
              "      box-shadow: 0px 1px 2px rgba(60, 64, 67, 0.3), 0px 1px 3px 1px rgba(60, 64, 67, 0.15);\n",
              "      fill: #174EA6;\n",
              "    }\n",
              "\n",
              "    [theme=dark] .colab-df-convert {\n",
              "      background-color: #3B4455;\n",
              "      fill: #D2E3FC;\n",
              "    }\n",
              "\n",
              "    [theme=dark] .colab-df-convert:hover {\n",
              "      background-color: #434B5C;\n",
              "      box-shadow: 0px 1px 3px 1px rgba(0, 0, 0, 0.15);\n",
              "      filter: drop-shadow(0px 1px 2px rgba(0, 0, 0, 0.3));\n",
              "      fill: #FFFFFF;\n",
              "    }\n",
              "  </style>\n",
              "\n",
              "      <script>\n",
              "        const buttonEl =\n",
              "          document.querySelector('#df-b707b704-f667-45a9-b347-5726d2680ca7 button.colab-df-convert');\n",
              "        buttonEl.style.display =\n",
              "          google.colab.kernel.accessAllowed ? 'block' : 'none';\n",
              "\n",
              "        async function convertToInteractive(key) {\n",
              "          const element = document.querySelector('#df-b707b704-f667-45a9-b347-5726d2680ca7');\n",
              "          const dataTable =\n",
              "            await google.colab.kernel.invokeFunction('convertToInteractive',\n",
              "                                                     [key], {});\n",
              "          if (!dataTable) return;\n",
              "\n",
              "          const docLinkHtml = 'Like what you see? Visit the ' +\n",
              "            '<a target=\"_blank\" href=https://colab.research.google.com/notebooks/data_table.ipynb>data table notebook</a>'\n",
              "            + ' to learn more about interactive tables.';\n",
              "          element.innerHTML = '';\n",
              "          dataTable['output_type'] = 'display_data';\n",
              "          await google.colab.output.renderOutput(dataTable, element);\n",
              "          const docLink = document.createElement('div');\n",
              "          docLink.innerHTML = docLinkHtml;\n",
              "          element.appendChild(docLink);\n",
              "        }\n",
              "      </script>\n",
              "    </div>\n",
              "  </div>\n",
              "  "
            ]
          },
          "metadata": {},
          "execution_count": 2
        }
      ]
    },
    {
      "cell_type": "code",
      "source": [
        "#install and import geopandas\n",
        "!pip install geopandas"
      ],
      "metadata": {
        "colab": {
          "base_uri": "https://localhost:8080/"
        },
        "id": "01HA6OCwhr4s",
        "outputId": "be78d4f2-2e49-4c63-c634-ce79f0632292"
      },
      "execution_count": null,
      "outputs": [
        {
          "output_type": "stream",
          "name": "stdout",
          "text": [
            "Looking in indexes: https://pypi.org/simple, https://us-python.pkg.dev/colab-wheels/public/simple/\n",
            "Collecting geopandas\n",
            "  Downloading geopandas-0.10.2-py2.py3-none-any.whl (1.0 MB)\n",
            "\u001b[K     |████████████████████████████████| 1.0 MB 4.8 MB/s \n",
            "\u001b[?25hCollecting fiona>=1.8\n",
            "  Downloading Fiona-1.8.21-cp37-cp37m-manylinux2014_x86_64.whl (16.7 MB)\n",
            "\u001b[K     |████████████████████████████████| 16.7 MB 198 kB/s \n",
            "\u001b[?25hRequirement already satisfied: pandas>=0.25.0 in /usr/local/lib/python3.7/dist-packages (from geopandas) (1.3.5)\n",
            "Collecting pyproj>=2.2.0\n",
            "  Downloading pyproj-3.2.1-cp37-cp37m-manylinux2010_x86_64.whl (6.3 MB)\n",
            "\u001b[K     |████████████████████████████████| 6.3 MB 36.1 MB/s \n",
            "\u001b[?25hRequirement already satisfied: shapely>=1.6 in /usr/local/lib/python3.7/dist-packages (from geopandas) (1.8.2)\n",
            "Requirement already satisfied: click>=4.0 in /usr/local/lib/python3.7/dist-packages (from fiona>=1.8->geopandas) (7.1.2)\n",
            "Collecting cligj>=0.5\n",
            "  Downloading cligj-0.7.2-py3-none-any.whl (7.1 kB)\n",
            "Collecting munch\n",
            "  Downloading munch-2.5.0-py2.py3-none-any.whl (10 kB)\n",
            "Requirement already satisfied: certifi in /usr/local/lib/python3.7/dist-packages (from fiona>=1.8->geopandas) (2022.6.15)\n",
            "Requirement already satisfied: setuptools in /usr/local/lib/python3.7/dist-packages (from fiona>=1.8->geopandas) (57.4.0)\n",
            "Requirement already satisfied: six>=1.7 in /usr/local/lib/python3.7/dist-packages (from fiona>=1.8->geopandas) (1.15.0)\n",
            "Requirement already satisfied: attrs>=17 in /usr/local/lib/python3.7/dist-packages (from fiona>=1.8->geopandas) (21.4.0)\n",
            "Collecting click-plugins>=1.0\n",
            "  Downloading click_plugins-1.1.1-py2.py3-none-any.whl (7.5 kB)\n",
            "Requirement already satisfied: pytz>=2017.3 in /usr/local/lib/python3.7/dist-packages (from pandas>=0.25.0->geopandas) (2022.1)\n",
            "Requirement already satisfied: numpy>=1.17.3 in /usr/local/lib/python3.7/dist-packages (from pandas>=0.25.0->geopandas) (1.21.6)\n",
            "Requirement already satisfied: python-dateutil>=2.7.3 in /usr/local/lib/python3.7/dist-packages (from pandas>=0.25.0->geopandas) (2.8.2)\n",
            "Installing collected packages: munch, cligj, click-plugins, pyproj, fiona, geopandas\n",
            "Successfully installed click-plugins-1.1.1 cligj-0.7.2 fiona-1.8.21 geopandas-0.10.2 munch-2.5.0 pyproj-3.2.1\n"
          ]
        }
      ]
    },
    {
      "cell_type": "code",
      "source": [
        "import geopandas as gpd"
      ],
      "metadata": {
        "id": "PCg7PSt-h4jO"
      },
      "execution_count": null,
      "outputs": []
    },
    {
      "cell_type": "code",
      "source": [
        "# Import geojason data for name of the segment\n",
        "url_seg = 'https://ckan0.cf.opendata.inter.prod-toronto.ca/dataset/b24095b2-8c2f-43d9-a257-b351c61432a6/resource/12f52800-9435-4c30-b38f-076b4dfedb32/download/bluetooth-travel-time-segments-geojson.geojson'\n",
        "\n",
        "df_segment = gpd.read_file(url_seg)\n",
        "\n",
        "df_segment.head()"
      ],
      "metadata": {
        "colab": {
          "base_uri": "https://localhost:8080/",
          "height": 206
        },
        "id": "uBvt-xPih8Sn",
        "outputId": "ba741b2b-d025-4627-9617-b990632ca788"
      },
      "execution_count": null,
      "outputs": [
        {
          "output_type": "execute_result",
          "data": {
            "text/plain": [
              "  segment_name      street direction from_intersection to_intersection  \\\n",
              "0  DU_BA_CO_BA    Bathurst        NB            Dundas         College   \n",
              "1  CO_BA_CO_UN     College        EB          Bathurst      University   \n",
              "2  CO_PA_CO_UN     College        WB        Parliament      University   \n",
              "3  CO_PA_DU_PA  Parliament        SB           College          Dundas   \n",
              "4  CO_UN_CO_BA     College        WB        University        Bathurst   \n",
              "\n",
              "   length                                           geometry  \n",
              "0     510  MULTILINESTRING ((-79.40602 43.65231, -79.4068...  \n",
              "1    1430  MULTILINESTRING ((-79.40772 43.65648, -79.4065...  \n",
              "2    1895  MULTILINESTRING ((-79.36798 43.66429, -79.3693...  \n",
              "3     586  MULTILINESTRING ((-79.36798 43.66429, -79.3678...  \n",
              "4    1430  MULTILINESTRING ((-79.39049 43.65986, -79.3925...  "
            ],
            "text/html": [
              "\n",
              "  <div id=\"df-8af25507-343b-4390-885e-a266d605e60b\">\n",
              "    <div class=\"colab-df-container\">\n",
              "      <div>\n",
              "<style scoped>\n",
              "    .dataframe tbody tr th:only-of-type {\n",
              "        vertical-align: middle;\n",
              "    }\n",
              "\n",
              "    .dataframe tbody tr th {\n",
              "        vertical-align: top;\n",
              "    }\n",
              "\n",
              "    .dataframe thead th {\n",
              "        text-align: right;\n",
              "    }\n",
              "</style>\n",
              "<table border=\"1\" class=\"dataframe\">\n",
              "  <thead>\n",
              "    <tr style=\"text-align: right;\">\n",
              "      <th></th>\n",
              "      <th>segment_name</th>\n",
              "      <th>street</th>\n",
              "      <th>direction</th>\n",
              "      <th>from_intersection</th>\n",
              "      <th>to_intersection</th>\n",
              "      <th>length</th>\n",
              "      <th>geometry</th>\n",
              "    </tr>\n",
              "  </thead>\n",
              "  <tbody>\n",
              "    <tr>\n",
              "      <th>0</th>\n",
              "      <td>DU_BA_CO_BA</td>\n",
              "      <td>Bathurst</td>\n",
              "      <td>NB</td>\n",
              "      <td>Dundas</td>\n",
              "      <td>College</td>\n",
              "      <td>510</td>\n",
              "      <td>MULTILINESTRING ((-79.40602 43.65231, -79.4068...</td>\n",
              "    </tr>\n",
              "    <tr>\n",
              "      <th>1</th>\n",
              "      <td>CO_BA_CO_UN</td>\n",
              "      <td>College</td>\n",
              "      <td>EB</td>\n",
              "      <td>Bathurst</td>\n",
              "      <td>University</td>\n",
              "      <td>1430</td>\n",
              "      <td>MULTILINESTRING ((-79.40772 43.65648, -79.4065...</td>\n",
              "    </tr>\n",
              "    <tr>\n",
              "      <th>2</th>\n",
              "      <td>CO_PA_CO_UN</td>\n",
              "      <td>College</td>\n",
              "      <td>WB</td>\n",
              "      <td>Parliament</td>\n",
              "      <td>University</td>\n",
              "      <td>1895</td>\n",
              "      <td>MULTILINESTRING ((-79.36798 43.66429, -79.3693...</td>\n",
              "    </tr>\n",
              "    <tr>\n",
              "      <th>3</th>\n",
              "      <td>CO_PA_DU_PA</td>\n",
              "      <td>Parliament</td>\n",
              "      <td>SB</td>\n",
              "      <td>College</td>\n",
              "      <td>Dundas</td>\n",
              "      <td>586</td>\n",
              "      <td>MULTILINESTRING ((-79.36798 43.66429, -79.3678...</td>\n",
              "    </tr>\n",
              "    <tr>\n",
              "      <th>4</th>\n",
              "      <td>CO_UN_CO_BA</td>\n",
              "      <td>College</td>\n",
              "      <td>WB</td>\n",
              "      <td>University</td>\n",
              "      <td>Bathurst</td>\n",
              "      <td>1430</td>\n",
              "      <td>MULTILINESTRING ((-79.39049 43.65986, -79.3925...</td>\n",
              "    </tr>\n",
              "  </tbody>\n",
              "</table>\n",
              "</div>\n",
              "      <button class=\"colab-df-convert\" onclick=\"convertToInteractive('df-8af25507-343b-4390-885e-a266d605e60b')\"\n",
              "              title=\"Convert this dataframe to an interactive table.\"\n",
              "              style=\"display:none;\">\n",
              "        \n",
              "  <svg xmlns=\"http://www.w3.org/2000/svg\" height=\"24px\"viewBox=\"0 0 24 24\"\n",
              "       width=\"24px\">\n",
              "    <path d=\"M0 0h24v24H0V0z\" fill=\"none\"/>\n",
              "    <path d=\"M18.56 5.44l.94 2.06.94-2.06 2.06-.94-2.06-.94-.94-2.06-.94 2.06-2.06.94zm-11 1L8.5 8.5l.94-2.06 2.06-.94-2.06-.94L8.5 2.5l-.94 2.06-2.06.94zm10 10l.94 2.06.94-2.06 2.06-.94-2.06-.94-.94-2.06-.94 2.06-2.06.94z\"/><path d=\"M17.41 7.96l-1.37-1.37c-.4-.4-.92-.59-1.43-.59-.52 0-1.04.2-1.43.59L10.3 9.45l-7.72 7.72c-.78.78-.78 2.05 0 2.83L4 21.41c.39.39.9.59 1.41.59.51 0 1.02-.2 1.41-.59l7.78-7.78 2.81-2.81c.8-.78.8-2.07 0-2.86zM5.41 20L4 18.59l7.72-7.72 1.47 1.35L5.41 20z\"/>\n",
              "  </svg>\n",
              "      </button>\n",
              "      \n",
              "  <style>\n",
              "    .colab-df-container {\n",
              "      display:flex;\n",
              "      flex-wrap:wrap;\n",
              "      gap: 12px;\n",
              "    }\n",
              "\n",
              "    .colab-df-convert {\n",
              "      background-color: #E8F0FE;\n",
              "      border: none;\n",
              "      border-radius: 50%;\n",
              "      cursor: pointer;\n",
              "      display: none;\n",
              "      fill: #1967D2;\n",
              "      height: 32px;\n",
              "      padding: 0 0 0 0;\n",
              "      width: 32px;\n",
              "    }\n",
              "\n",
              "    .colab-df-convert:hover {\n",
              "      background-color: #E2EBFA;\n",
              "      box-shadow: 0px 1px 2px rgba(60, 64, 67, 0.3), 0px 1px 3px 1px rgba(60, 64, 67, 0.15);\n",
              "      fill: #174EA6;\n",
              "    }\n",
              "\n",
              "    [theme=dark] .colab-df-convert {\n",
              "      background-color: #3B4455;\n",
              "      fill: #D2E3FC;\n",
              "    }\n",
              "\n",
              "    [theme=dark] .colab-df-convert:hover {\n",
              "      background-color: #434B5C;\n",
              "      box-shadow: 0px 1px 3px 1px rgba(0, 0, 0, 0.15);\n",
              "      filter: drop-shadow(0px 1px 2px rgba(0, 0, 0, 0.3));\n",
              "      fill: #FFFFFF;\n",
              "    }\n",
              "  </style>\n",
              "\n",
              "      <script>\n",
              "        const buttonEl =\n",
              "          document.querySelector('#df-8af25507-343b-4390-885e-a266d605e60b button.colab-df-convert');\n",
              "        buttonEl.style.display =\n",
              "          google.colab.kernel.accessAllowed ? 'block' : 'none';\n",
              "\n",
              "        async function convertToInteractive(key) {\n",
              "          const element = document.querySelector('#df-8af25507-343b-4390-885e-a266d605e60b');\n",
              "          const dataTable =\n",
              "            await google.colab.kernel.invokeFunction('convertToInteractive',\n",
              "                                                     [key], {});\n",
              "          if (!dataTable) return;\n",
              "\n",
              "          const docLinkHtml = 'Like what you see? Visit the ' +\n",
              "            '<a target=\"_blank\" href=https://colab.research.google.com/notebooks/data_table.ipynb>data table notebook</a>'\n",
              "            + ' to learn more about interactive tables.';\n",
              "          element.innerHTML = '';\n",
              "          dataTable['output_type'] = 'display_data';\n",
              "          await google.colab.output.renderOutput(dataTable, element);\n",
              "          const docLink = document.createElement('div');\n",
              "          docLink.innerHTML = docLinkHtml;\n",
              "          element.appendChild(docLink);\n",
              "        }\n",
              "      </script>\n",
              "    </div>\n",
              "  </div>\n",
              "  "
            ]
          },
          "metadata": {},
          "execution_count": 5
        }
      ]
    },
    {
      "cell_type": "code",
      "source": [
        "# Creating function to retrieve the segment code\n",
        "\n",
        "def get_segment(street_name, street_from, to, place_df):\n",
        "    \"\"\"Get the segment code from the street name and from/to streets.\"\"\"\n",
        "    df1 = place_df[place_df['street'] == street_name]\n",
        "\n",
        "    df2 = df1[df1['from_intersection'] == street_from]\n",
        "    \n",
        "    df3 = df2[df2['to_intersection'] == to]\n",
        "    \n",
        "    segment_code = df3['segment_name'].iloc[0]\n",
        "\n",
        "    return segment_code"
      ],
      "metadata": {
        "id": "m5UYCql-n3i0"
      },
      "execution_count": null,
      "outputs": []
    },
    {
      "cell_type": "code",
      "source": [
        "#Test generalized code\n",
        "get_segment('King', 'Bathurst', 'Spadina', df_segment)"
      ],
      "metadata": {
        "colab": {
          "base_uri": "https://localhost:8080/",
          "height": 35
        },
        "id": "AkMSujTVoO8C",
        "outputId": "d5f00848-407e-4ebc-d2c0-a3ef1c996ab0"
      },
      "execution_count": null,
      "outputs": [
        {
          "output_type": "execute_result",
          "data": {
            "text/plain": [
              "'KN_BA_KN_SP'"
            ],
            "application/vnd.google.colaboratory.intrinsic+json": {
              "type": "string"
            }
          },
          "metadata": {},
          "execution_count": 28
        }
      ]
    },
    {
      "cell_type": "code",
      "source": [
        "# Defining function for Analysis\n",
        "def analyze_data(times_df, segment_of_interest, column_to_groupby, minutes):\n",
        "    \"\"\"Clean and pivot our data.\"\"\"\n",
        "    street_data = times_df[times_df['result_id'] == segment_of_interest]\n",
        "\n",
        "    street_data = street_data.dropna(subset=['period_name'])\n",
        "    \n",
        "    street_data = street_data[street_data['category'] != 'Excluded']\n",
        "\n",
        "    summary_comparison = street_data.groupby(['category', column_to_groupby]).mean()\n",
        "\n",
        "    summary_comparison = summary_comparison.reset_index()\n",
        "\n",
        "    pivoted_data = summary_comparison.pivot(index=column_to_groupby, columns='category', values='tt')\n",
        "\n",
        "    # Minutes or seconds:\n",
        "    if minutes == True:\n",
        "        pivoted_data = pivoted_data / 60\n",
        "\n",
        "    pivoted_data['pct_diff'] = (pivoted_data['Pilot'] - pivoted_data['Baseline']) / pivoted_data['Baseline'] * 100\n",
        "\n",
        "    return pivoted_data\n"
      ],
      "metadata": {
        "id": "Q0ZS0N-CoeBZ"
      },
      "execution_count": null,
      "outputs": []
    },
    {
      "cell_type": "code",
      "source": [
        "#Test code\n",
        "segment_of_interest = get_segment('King', 'Bathurst', 'Spadina', df_segment)\n",
        "\n",
        "analyze_data(time_interval, segment_of_interest, 'period_name', False)"
      ],
      "metadata": {
        "colab": {
          "base_uri": "https://localhost:8080/",
          "height": 269
        },
        "id": "LUrSken7pVEi",
        "outputId": "24504386-61a7-470f-d093-4f3518b9d679"
      },
      "execution_count": null,
      "outputs": [
        {
          "output_type": "execute_result",
          "data": {
            "text/plain": [
              "category       Baseline       Pilot   pct_diff\n",
              "period_name                                   \n",
              "AM Peak      148.363544  167.316901  12.774943\n",
              "Afternoon    166.645455  185.319231  11.205692\n",
              "Evening      233.690157  189.215976 -19.031260\n",
              "Midday       187.741902  176.057377  -6.223717\n",
              "Morning      119.497596  163.355769  36.702138\n",
              "PM Peak      223.014706  198.466981 -11.007222"
            ],
            "text/html": [
              "\n",
              "  <div id=\"df-5bd3f612-2874-4f9c-ac6d-8806e05e5268\">\n",
              "    <div class=\"colab-df-container\">\n",
              "      <div>\n",
              "<style scoped>\n",
              "    .dataframe tbody tr th:only-of-type {\n",
              "        vertical-align: middle;\n",
              "    }\n",
              "\n",
              "    .dataframe tbody tr th {\n",
              "        vertical-align: top;\n",
              "    }\n",
              "\n",
              "    .dataframe thead th {\n",
              "        text-align: right;\n",
              "    }\n",
              "</style>\n",
              "<table border=\"1\" class=\"dataframe\">\n",
              "  <thead>\n",
              "    <tr style=\"text-align: right;\">\n",
              "      <th>category</th>\n",
              "      <th>Baseline</th>\n",
              "      <th>Pilot</th>\n",
              "      <th>pct_diff</th>\n",
              "    </tr>\n",
              "    <tr>\n",
              "      <th>period_name</th>\n",
              "      <th></th>\n",
              "      <th></th>\n",
              "      <th></th>\n",
              "    </tr>\n",
              "  </thead>\n",
              "  <tbody>\n",
              "    <tr>\n",
              "      <th>AM Peak</th>\n",
              "      <td>148.363544</td>\n",
              "      <td>167.316901</td>\n",
              "      <td>12.774943</td>\n",
              "    </tr>\n",
              "    <tr>\n",
              "      <th>Afternoon</th>\n",
              "      <td>166.645455</td>\n",
              "      <td>185.319231</td>\n",
              "      <td>11.205692</td>\n",
              "    </tr>\n",
              "    <tr>\n",
              "      <th>Evening</th>\n",
              "      <td>233.690157</td>\n",
              "      <td>189.215976</td>\n",
              "      <td>-19.031260</td>\n",
              "    </tr>\n",
              "    <tr>\n",
              "      <th>Midday</th>\n",
              "      <td>187.741902</td>\n",
              "      <td>176.057377</td>\n",
              "      <td>-6.223717</td>\n",
              "    </tr>\n",
              "    <tr>\n",
              "      <th>Morning</th>\n",
              "      <td>119.497596</td>\n",
              "      <td>163.355769</td>\n",
              "      <td>36.702138</td>\n",
              "    </tr>\n",
              "    <tr>\n",
              "      <th>PM Peak</th>\n",
              "      <td>223.014706</td>\n",
              "      <td>198.466981</td>\n",
              "      <td>-11.007222</td>\n",
              "    </tr>\n",
              "  </tbody>\n",
              "</table>\n",
              "</div>\n",
              "      <button class=\"colab-df-convert\" onclick=\"convertToInteractive('df-5bd3f612-2874-4f9c-ac6d-8806e05e5268')\"\n",
              "              title=\"Convert this dataframe to an interactive table.\"\n",
              "              style=\"display:none;\">\n",
              "        \n",
              "  <svg xmlns=\"http://www.w3.org/2000/svg\" height=\"24px\"viewBox=\"0 0 24 24\"\n",
              "       width=\"24px\">\n",
              "    <path d=\"M0 0h24v24H0V0z\" fill=\"none\"/>\n",
              "    <path d=\"M18.56 5.44l.94 2.06.94-2.06 2.06-.94-2.06-.94-.94-2.06-.94 2.06-2.06.94zm-11 1L8.5 8.5l.94-2.06 2.06-.94-2.06-.94L8.5 2.5l-.94 2.06-2.06.94zm10 10l.94 2.06.94-2.06 2.06-.94-2.06-.94-.94-2.06-.94 2.06-2.06.94z\"/><path d=\"M17.41 7.96l-1.37-1.37c-.4-.4-.92-.59-1.43-.59-.52 0-1.04.2-1.43.59L10.3 9.45l-7.72 7.72c-.78.78-.78 2.05 0 2.83L4 21.41c.39.39.9.59 1.41.59.51 0 1.02-.2 1.41-.59l7.78-7.78 2.81-2.81c.8-.78.8-2.07 0-2.86zM5.41 20L4 18.59l7.72-7.72 1.47 1.35L5.41 20z\"/>\n",
              "  </svg>\n",
              "      </button>\n",
              "      \n",
              "  <style>\n",
              "    .colab-df-container {\n",
              "      display:flex;\n",
              "      flex-wrap:wrap;\n",
              "      gap: 12px;\n",
              "    }\n",
              "\n",
              "    .colab-df-convert {\n",
              "      background-color: #E8F0FE;\n",
              "      border: none;\n",
              "      border-radius: 50%;\n",
              "      cursor: pointer;\n",
              "      display: none;\n",
              "      fill: #1967D2;\n",
              "      height: 32px;\n",
              "      padding: 0 0 0 0;\n",
              "      width: 32px;\n",
              "    }\n",
              "\n",
              "    .colab-df-convert:hover {\n",
              "      background-color: #E2EBFA;\n",
              "      box-shadow: 0px 1px 2px rgba(60, 64, 67, 0.3), 0px 1px 3px 1px rgba(60, 64, 67, 0.15);\n",
              "      fill: #174EA6;\n",
              "    }\n",
              "\n",
              "    [theme=dark] .colab-df-convert {\n",
              "      background-color: #3B4455;\n",
              "      fill: #D2E3FC;\n",
              "    }\n",
              "\n",
              "    [theme=dark] .colab-df-convert:hover {\n",
              "      background-color: #434B5C;\n",
              "      box-shadow: 0px 1px 3px 1px rgba(0, 0, 0, 0.15);\n",
              "      filter: drop-shadow(0px 1px 2px rgba(0, 0, 0, 0.3));\n",
              "      fill: #FFFFFF;\n",
              "    }\n",
              "  </style>\n",
              "\n",
              "      <script>\n",
              "        const buttonEl =\n",
              "          document.querySelector('#df-5bd3f612-2874-4f9c-ac6d-8806e05e5268 button.colab-df-convert');\n",
              "        buttonEl.style.display =\n",
              "          google.colab.kernel.accessAllowed ? 'block' : 'none';\n",
              "\n",
              "        async function convertToInteractive(key) {\n",
              "          const element = document.querySelector('#df-5bd3f612-2874-4f9c-ac6d-8806e05e5268');\n",
              "          const dataTable =\n",
              "            await google.colab.kernel.invokeFunction('convertToInteractive',\n",
              "                                                     [key], {});\n",
              "          if (!dataTable) return;\n",
              "\n",
              "          const docLinkHtml = 'Like what you see? Visit the ' +\n",
              "            '<a target=\"_blank\" href=https://colab.research.google.com/notebooks/data_table.ipynb>data table notebook</a>'\n",
              "            + ' to learn more about interactive tables.';\n",
              "          element.innerHTML = '';\n",
              "          dataTable['output_type'] = 'display_data';\n",
              "          await google.colab.output.renderOutput(dataTable, element);\n",
              "          const docLink = document.createElement('div');\n",
              "          docLink.innerHTML = docLinkHtml;\n",
              "          element.appendChild(docLink);\n",
              "        }\n",
              "      </script>\n",
              "    </div>\n",
              "  </div>\n",
              "  "
            ]
          },
          "metadata": {},
          "execution_count": 49
        }
      ]
    },
    {
      "cell_type": "code",
      "source": [
        "segment_of_interest = get_segment('King', 'Bathurst', 'Spadina', df_segment)\n",
        "\n",
        "analyze_data(time_interval, segment_of_interest, 'day_type', True)"
      ],
      "metadata": {
        "colab": {
          "base_uri": "https://localhost:8080/",
          "height": 143
        },
        "id": "e9Wbzw31p_bd",
        "outputId": "37327d34-7fad-4bf5-e011-289e0b3c5418"
      },
      "execution_count": null,
      "outputs": [
        {
          "output_type": "execute_result",
          "data": {
            "text/plain": [
              "category  Baseline     Pilot  pct_diff\n",
              "day_type                              \n",
              "Weekday   3.315186  3.137724 -5.352995\n",
              "Weekend   2.905640  2.939502  1.165384"
            ],
            "text/html": [
              "\n",
              "  <div id=\"df-9a20cc42-a8d4-455e-8981-344f84a8d08f\">\n",
              "    <div class=\"colab-df-container\">\n",
              "      <div>\n",
              "<style scoped>\n",
              "    .dataframe tbody tr th:only-of-type {\n",
              "        vertical-align: middle;\n",
              "    }\n",
              "\n",
              "    .dataframe tbody tr th {\n",
              "        vertical-align: top;\n",
              "    }\n",
              "\n",
              "    .dataframe thead th {\n",
              "        text-align: right;\n",
              "    }\n",
              "</style>\n",
              "<table border=\"1\" class=\"dataframe\">\n",
              "  <thead>\n",
              "    <tr style=\"text-align: right;\">\n",
              "      <th>category</th>\n",
              "      <th>Baseline</th>\n",
              "      <th>Pilot</th>\n",
              "      <th>pct_diff</th>\n",
              "    </tr>\n",
              "    <tr>\n",
              "      <th>day_type</th>\n",
              "      <th></th>\n",
              "      <th></th>\n",
              "      <th></th>\n",
              "    </tr>\n",
              "  </thead>\n",
              "  <tbody>\n",
              "    <tr>\n",
              "      <th>Weekday</th>\n",
              "      <td>3.315186</td>\n",
              "      <td>3.137724</td>\n",
              "      <td>-5.352995</td>\n",
              "    </tr>\n",
              "    <tr>\n",
              "      <th>Weekend</th>\n",
              "      <td>2.905640</td>\n",
              "      <td>2.939502</td>\n",
              "      <td>1.165384</td>\n",
              "    </tr>\n",
              "  </tbody>\n",
              "</table>\n",
              "</div>\n",
              "      <button class=\"colab-df-convert\" onclick=\"convertToInteractive('df-9a20cc42-a8d4-455e-8981-344f84a8d08f')\"\n",
              "              title=\"Convert this dataframe to an interactive table.\"\n",
              "              style=\"display:none;\">\n",
              "        \n",
              "  <svg xmlns=\"http://www.w3.org/2000/svg\" height=\"24px\"viewBox=\"0 0 24 24\"\n",
              "       width=\"24px\">\n",
              "    <path d=\"M0 0h24v24H0V0z\" fill=\"none\"/>\n",
              "    <path d=\"M18.56 5.44l.94 2.06.94-2.06 2.06-.94-2.06-.94-.94-2.06-.94 2.06-2.06.94zm-11 1L8.5 8.5l.94-2.06 2.06-.94-2.06-.94L8.5 2.5l-.94 2.06-2.06.94zm10 10l.94 2.06.94-2.06 2.06-.94-2.06-.94-.94-2.06-.94 2.06-2.06.94z\"/><path d=\"M17.41 7.96l-1.37-1.37c-.4-.4-.92-.59-1.43-.59-.52 0-1.04.2-1.43.59L10.3 9.45l-7.72 7.72c-.78.78-.78 2.05 0 2.83L4 21.41c.39.39.9.59 1.41.59.51 0 1.02-.2 1.41-.59l7.78-7.78 2.81-2.81c.8-.78.8-2.07 0-2.86zM5.41 20L4 18.59l7.72-7.72 1.47 1.35L5.41 20z\"/>\n",
              "  </svg>\n",
              "      </button>\n",
              "      \n",
              "  <style>\n",
              "    .colab-df-container {\n",
              "      display:flex;\n",
              "      flex-wrap:wrap;\n",
              "      gap: 12px;\n",
              "    }\n",
              "\n",
              "    .colab-df-convert {\n",
              "      background-color: #E8F0FE;\n",
              "      border: none;\n",
              "      border-radius: 50%;\n",
              "      cursor: pointer;\n",
              "      display: none;\n",
              "      fill: #1967D2;\n",
              "      height: 32px;\n",
              "      padding: 0 0 0 0;\n",
              "      width: 32px;\n",
              "    }\n",
              "\n",
              "    .colab-df-convert:hover {\n",
              "      background-color: #E2EBFA;\n",
              "      box-shadow: 0px 1px 2px rgba(60, 64, 67, 0.3), 0px 1px 3px 1px rgba(60, 64, 67, 0.15);\n",
              "      fill: #174EA6;\n",
              "    }\n",
              "\n",
              "    [theme=dark] .colab-df-convert {\n",
              "      background-color: #3B4455;\n",
              "      fill: #D2E3FC;\n",
              "    }\n",
              "\n",
              "    [theme=dark] .colab-df-convert:hover {\n",
              "      background-color: #434B5C;\n",
              "      box-shadow: 0px 1px 3px 1px rgba(0, 0, 0, 0.15);\n",
              "      filter: drop-shadow(0px 1px 2px rgba(0, 0, 0, 0.3));\n",
              "      fill: #FFFFFF;\n",
              "    }\n",
              "  </style>\n",
              "\n",
              "      <script>\n",
              "        const buttonEl =\n",
              "          document.querySelector('#df-9a20cc42-a8d4-455e-8981-344f84a8d08f button.colab-df-convert');\n",
              "        buttonEl.style.display =\n",
              "          google.colab.kernel.accessAllowed ? 'block' : 'none';\n",
              "\n",
              "        async function convertToInteractive(key) {\n",
              "          const element = document.querySelector('#df-9a20cc42-a8d4-455e-8981-344f84a8d08f');\n",
              "          const dataTable =\n",
              "            await google.colab.kernel.invokeFunction('convertToInteractive',\n",
              "                                                     [key], {});\n",
              "          if (!dataTable) return;\n",
              "\n",
              "          const docLinkHtml = 'Like what you see? Visit the ' +\n",
              "            '<a target=\"_blank\" href=https://colab.research.google.com/notebooks/data_table.ipynb>data table notebook</a>'\n",
              "            + ' to learn more about interactive tables.';\n",
              "          element.innerHTML = '';\n",
              "          dataTable['output_type'] = 'display_data';\n",
              "          await google.colab.output.renderOutput(dataTable, element);\n",
              "          const docLink = document.createElement('div');\n",
              "          docLink.innerHTML = docLinkHtml;\n",
              "          element.appendChild(docLink);\n",
              "        }\n",
              "      </script>\n",
              "    </div>\n",
              "  </div>\n",
              "  "
            ]
          },
          "metadata": {},
          "execution_count": 50
        }
      ]
    },
    {
      "cell_type": "markdown",
      "source": [
        "**Weekdays from Yonge to Jarvis**"
      ],
      "metadata": {
        "id": "xoIRswDU_OzP"
      }
    },
    {
      "cell_type": "code",
      "source": [
        "street = 'King'\n",
        "from_street = 'Yonge'\n",
        "to = 'Jarvis'\n",
        "column_to_groupby = 'day_type'\n",
        "min_boolean = True\n",
        "# --\n",
        "\n",
        "time_unit = 'seconds'\n",
        "if minutes_bool: # == True\n",
        "    time_unit = 'minutes'\n",
        "\n",
        "segment_of_interest = get_segment(street, from_street, to, df_segment)\n",
        "\n",
        "pivoted_data = analyze_data(time_interval, segment_of_interest, column_to_groupby, min_boolean)\n",
        "\n",
        "# Print the pivoted data\n",
        "print('Travel time in ' + time_unit)\n",
        "print('----------------')\n",
        "print(pivoted_data)\n",
        "\n",
        "print('')\n",
        "# Plot the pivoted data\n",
        "plt1 = pivoted_data['pct_diff'].plot(kind='bar', figsize=(12, 6))\n",
        "\n",
        "plt1.set_ylabel('Percent Change [%]')\n",
        "\n",
        "plt1.set_xlabel('Period Name')\n",
        "\n",
        "plt1.set_title('Percent Change in Travel Time: ' + from_street + ' to ' + to)"
      ],
      "metadata": {
        "colab": {
          "base_uri": "https://localhost:8080/",
          "height": 579
        },
        "id": "iZvgvQOzqGEs",
        "outputId": "6ff5a35b-0020-4f4c-f6ef-cc6ca9b32500"
      },
      "execution_count": null,
      "outputs": [
        {
          "output_type": "stream",
          "name": "stdout",
          "text": [
            "Travel time in minutes\n",
            "----------------\n",
            "category  Baseline     Pilot   pct_diff\n",
            "day_type                               \n",
            "Weekday    2.20313  2.663815  20.910455\n",
            "Weekend    1.85486  3.220607  73.630731\n",
            "\n"
          ]
        },
        {
          "output_type": "execute_result",
          "data": {
            "text/plain": [
              "Text(0.5, 1.0, 'Percent Change in Travel Time: Yonge to Jarvis')"
            ]
          },
          "metadata": {},
          "execution_count": 51
        },
        {
          "output_type": "display_data",
          "data": {
            "text/plain": [
              "<Figure size 864x432 with 1 Axes>"
            ],
            "image/png": "[encoded data removed]"
          },
          "metadata": {
            "needs_background": "light"
          }
        }
      ]
    },
    {
      "cell_type": "markdown",
      "source": [
        "**Conclusion**"
      ],
      "metadata": {
        "id": "ePK-Mxebu5z4"
      }
    },
    {
      "cell_type": "markdown",
      "source": [
        "As we can see from the above analysis, the travel time has increased significantly, just over 20%, on Weekdays from Yonge to Jarvis. This shows that the King Street Transit Pilot project has failed to reduce travel time for the traffic in this particular segment of the road."
      ],
      "metadata": {
        "id": "KYacc8ayu9vr"
      }
    },
    {
      "cell_type": "markdown",
      "source": [
        "**Jarvis to Parliament**"
      ],
      "metadata": {
        "id": "U5s4XdFb_SZ8"
      }
    },
    {
      "cell_type": "code",
      "source": [
        "street = 'King'\n",
        "from_street = 'Jarvis'\n",
        "to = 'Parliament'\n",
        "column_to_groupby = 'day_type'\n",
        "min_boolean = True\n",
        "# --\n",
        "\n",
        "time_unit = 'seconds'\n",
        "if minutes_bool: # == True\n",
        "    time_unit = 'minutes'\n",
        "\n",
        "segment_of_interest = get_segment(street, from_street, to, df_segment)\n",
        "\n",
        "pivoted_data = analyze_data(time_interval, segment_of_interest, column_to_groupby, min_boolean)\n",
        "\n",
        "# Print the pivoted data\n",
        "print('Travel time in ' + time_unit)\n",
        "print('----------------')\n",
        "print(pivoted_data)\n",
        "\n",
        "print('')\n",
        "# Plot the pivoted data\n",
        "plt2 = pivoted_data['pct_diff'].plot(kind='bar', figsize=(12, 6))\n",
        "\n",
        "plt2.set_ylabel('Percent Change [%]')\n",
        "\n",
        "plt2.set_xlabel('Period Name')\n",
        "\n",
        "plt2.set_title('Percent Change in Travel Time: ' + from_street + ' to ' + to)"
      ],
      "metadata": {
        "colab": {
          "base_uri": "https://localhost:8080/",
          "height": 579
        },
        "id": "Cbvoyu7isfoU",
        "outputId": "6246d335-b38b-4753-fdb6-ae0d62b32bef"
      },
      "execution_count": null,
      "outputs": [
        {
          "output_type": "stream",
          "name": "stdout",
          "text": [
            "Travel time in minutes\n",
            "----------------\n",
            "category  Baseline     Pilot   pct_diff\n",
            "day_type                               \n",
            "Weekday   2.856477  3.071697   7.534455\n",
            "Weekend   2.350105  3.438091  46.295192\n",
            "\n"
          ]
        },
        {
          "output_type": "execute_result",
          "data": {
            "text/plain": [
              "Text(0.5, 1.0, 'Percent Change in Travel Time: Jarvis to Parliament')"
            ]
          },
          "metadata": {},
          "execution_count": 47
        },
        {
          "output_type": "display_data",
          "data": {
            "text/plain": [
              "<Figure size 864x432 with 1 Axes>"
            ],
            "image/png": "[encoded data removed]"
          },
          "metadata": {
            "needs_background": "light"
          }
        }
      ]
    },
    {
      "cell_type": "markdown",
      "source": [
        "**Conclusion**"
      ],
      "metadata": {
        "id": "ktb5zBxBtEGN"
      }
    },
    {
      "cell_type": "markdown",
      "source": [
        "As we can see from the above analysis, the travel time has increased significantly, almost 50%, on Weekends from Jarvis to Parliament. This shows that the King Street Transit Pilot project has failed to reduce travel time for the traffic in this particular segment of the road."
      ],
      "metadata": {
        "id": "K2pmHgE_tLab"
      }
    },
    {
      "cell_type": "markdown",
      "source": [
        "# Summary of Commands\n",
        "```\n",
        "!pip install geopandas\n",
        "pandas.DataFrame.describe(include='all')\n",
        "pandas.DataFrame.unique()\n",
        "pandas.DataFrame.groupby()\n",
        "pandas.DataFrame.reset_index()\n",
        "\n",
        "```"
      ],
      "metadata": {
        "id": "y2NdhRR80Oys"
      }
    },
    {
      "cell_type": "markdown",
      "source": [
        "# Resources\n",
        "- The world's most popular Python podcast: [Talk Python to Me](https://talkpython.fm)\n",
        "- The definitive book on Pandas: [Python for Data Analysis](https://wesmckinney.com/book/)\n",
        "- The BEST Introduction to Applied Statistics: [StatQuest - Joshua Starmer](https://www.youtube.com/playlist?list=PLblh5JKOoLUK0FLuzwntyYI10UQFUhsY9)"
      ],
      "metadata": {
        "id": "KIDznaIF9OAi"
      }
    }
  ]
}